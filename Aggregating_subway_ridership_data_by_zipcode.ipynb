{
  "nbformat": 4,
  "nbformat_minor": 0,
  "metadata": {
    "colab": {
      "name": "Aggregating subway ridership data by zipcode",
      "provenance": [],
      "collapsed_sections": []
    },
    "kernelspec": {
      "name": "python3",
      "display_name": "Python 3"
    }
  },
  "cells": [
    {
      "cell_type": "markdown",
      "metadata": {
        "id": "t2ltrOIffUsx",
        "colab_type": "text"
      },
      "source": [
        "# Installing dependencies\n"
      ]
    },
    {
      "cell_type": "code",
      "metadata": {
        "id": "J5gKrFr2eE3E",
        "colab_type": "code",
        "outputId": "1442e540-cf38-4758-abcd-835c90d0ea3e",
        "colab": {
          "base_uri": "https://localhost:8080/",
          "height": 764
        }
      },
      "source": [
        "!pip install geopandas\n",
        "!pip install plotly_express\n",
        "!pip install tqdm\n",
        "!pip install geopy"
      ],
      "execution_count": 1,
      "outputs": [
        {
          "output_type": "stream",
          "text": [
            "Collecting geopandas\n",
            "\u001b[?25l  Downloading https://files.pythonhosted.org/packages/83/c5/3cf9cdc39a6f2552922f79915f36b45a95b71fd343cfc51170a5b6ddb6e8/geopandas-0.7.0-py2.py3-none-any.whl (928kB)\n",
            "\u001b[K     |████████████████████████████████| 931kB 2.8MB/s \n",
            "\u001b[?25hRequirement already satisfied: pandas>=0.23.0 in /usr/local/lib/python3.6/dist-packages (from geopandas) (1.0.3)\n",
            "Requirement already satisfied: shapely in /usr/local/lib/python3.6/dist-packages (from geopandas) (1.7.0)\n",
            "Collecting fiona\n",
            "\u001b[?25l  Downloading https://files.pythonhosted.org/packages/ec/20/4e63bc5c6e62df889297b382c3ccd4a7a488b00946aaaf81a118158c6f09/Fiona-1.8.13.post1-cp36-cp36m-manylinux1_x86_64.whl (14.7MB)\n",
            "\u001b[K     |████████████████████████████████| 14.7MB 277kB/s \n",
            "\u001b[?25hCollecting pyproj>=2.2.0\n",
            "\u001b[?25l  Downloading https://files.pythonhosted.org/packages/e5/c3/071e080230ac4b6c64f1a2e2f9161c9737a2bc7b683d2c90b024825000c0/pyproj-2.6.1.post1-cp36-cp36m-manylinux2010_x86_64.whl (10.9MB)\n",
            "\u001b[K     |████████████████████████████████| 10.9MB 45.6MB/s \n",
            "\u001b[?25hRequirement already satisfied: numpy>=1.13.3 in /usr/local/lib/python3.6/dist-packages (from pandas>=0.23.0->geopandas) (1.18.4)\n",
            "Requirement already satisfied: python-dateutil>=2.6.1 in /usr/local/lib/python3.6/dist-packages (from pandas>=0.23.0->geopandas) (2.8.1)\n",
            "Requirement already satisfied: pytz>=2017.2 in /usr/local/lib/python3.6/dist-packages (from pandas>=0.23.0->geopandas) (2018.9)\n",
            "Requirement already satisfied: six>=1.7 in /usr/local/lib/python3.6/dist-packages (from fiona->geopandas) (1.12.0)\n",
            "Requirement already satisfied: click<8,>=4.0 in /usr/local/lib/python3.6/dist-packages (from fiona->geopandas) (7.1.2)\n",
            "Collecting munch\n",
            "  Downloading https://files.pythonhosted.org/packages/cc/ab/85d8da5c9a45e072301beb37ad7f833cd344e04c817d97e0cc75681d248f/munch-2.5.0-py2.py3-none-any.whl\n",
            "Requirement already satisfied: attrs>=17 in /usr/local/lib/python3.6/dist-packages (from fiona->geopandas) (19.3.0)\n",
            "Collecting cligj>=0.5\n",
            "  Downloading https://files.pythonhosted.org/packages/e4/be/30a58b4b0733850280d01f8bd132591b4668ed5c7046761098d665ac2174/cligj-0.5.0-py3-none-any.whl\n",
            "Collecting click-plugins>=1.0\n",
            "  Downloading https://files.pythonhosted.org/packages/e9/da/824b92d9942f4e472702488857914bdd50f73021efea15b4cad9aca8ecef/click_plugins-1.1.1-py2.py3-none-any.whl\n",
            "Installing collected packages: munch, cligj, click-plugins, fiona, pyproj, geopandas\n",
            "Successfully installed click-plugins-1.1.1 cligj-0.5.0 fiona-1.8.13.post1 geopandas-0.7.0 munch-2.5.0 pyproj-2.6.1.post1\n",
            "Collecting plotly_express\n",
            "  Downloading https://files.pythonhosted.org/packages/d4/d6/8a2906f51e073a4be80cab35cfa10e7a34853e60f3ed5304ac470852a08d/plotly_express-0.4.1-py2.py3-none-any.whl\n",
            "Requirement already satisfied: pandas>=0.20.0 in /usr/local/lib/python3.6/dist-packages (from plotly_express) (1.0.3)\n",
            "Requirement already satisfied: numpy>=1.11 in /usr/local/lib/python3.6/dist-packages (from plotly_express) (1.18.4)\n",
            "Requirement already satisfied: patsy>=0.5 in /usr/local/lib/python3.6/dist-packages (from plotly_express) (0.5.1)\n",
            "Requirement already satisfied: statsmodels>=0.9.0 in /usr/local/lib/python3.6/dist-packages (from plotly_express) (0.10.2)\n",
            "Requirement already satisfied: scipy>=0.18 in /usr/local/lib/python3.6/dist-packages (from plotly_express) (1.4.1)\n",
            "Requirement already satisfied: plotly>=4.1.0 in /usr/local/lib/python3.6/dist-packages (from plotly_express) (4.4.1)\n",
            "Requirement already satisfied: python-dateutil>=2.6.1 in /usr/local/lib/python3.6/dist-packages (from pandas>=0.20.0->plotly_express) (2.8.1)\n",
            "Requirement already satisfied: pytz>=2017.2 in /usr/local/lib/python3.6/dist-packages (from pandas>=0.20.0->plotly_express) (2018.9)\n",
            "Requirement already satisfied: six in /usr/local/lib/python3.6/dist-packages (from patsy>=0.5->plotly_express) (1.12.0)\n",
            "Requirement already satisfied: retrying>=1.3.3 in /usr/local/lib/python3.6/dist-packages (from plotly>=4.1.0->plotly_express) (1.3.3)\n",
            "Installing collected packages: plotly-express\n",
            "Successfully installed plotly-express-0.4.1\n",
            "Requirement already satisfied: tqdm in /usr/local/lib/python3.6/dist-packages (4.41.1)\n",
            "Requirement already satisfied: geopy in /usr/local/lib/python3.6/dist-packages (1.17.0)\n",
            "Requirement already satisfied: geographiclib<2,>=1.49 in /usr/local/lib/python3.6/dist-packages (from geopy) (1.50)\n"
          ],
          "name": "stdout"
        }
      ]
    },
    {
      "cell_type": "markdown",
      "metadata": {
        "id": "jVoxmSxtg1hC",
        "colab_type": "text"
      },
      "source": [
        "# Importing libraries and packages"
      ]
    },
    {
      "cell_type": "code",
      "metadata": {
        "id": "hpyIIm_ceS79",
        "colab_type": "code",
        "outputId": "15f1f4ef-5f9d-4697-aef7-d3681a84f6cc",
        "colab": {
          "base_uri": "https://localhost:8080/",
          "height": 215
        }
      },
      "source": [
        "import pandas as pd\n",
        "import geopandas as gpd\n",
        "import geopy\n",
        "from geopy.geocoders import Nominatim\n",
        "from geopy.extra.rate_limiter import RateLimiter\n",
        "import matplotlib.pyplot as plt\n",
        "import plotly_express as px\n",
        "import tqdm\n",
        "from tqdm._tqdm_notebook import tqdm_notebook\n",
        "from google.colab import drive \n",
        "drive.mount('/content/gdrive')"
      ],
      "execution_count": 2,
      "outputs": [
        {
          "output_type": "stream",
          "text": [
            "/usr/local/lib/python3.6/dist-packages/ipykernel_launcher.py:9: TqdmDeprecationWarning:\n",
            "\n",
            "This function will be removed in tqdm==5.0.0\n",
            "Please use `tqdm.notebook.*` instead of `tqdm._tqdm_notebook.*`\n",
            "\n"
          ],
          "name": "stderr"
        },
        {
          "output_type": "stream",
          "text": [
            "Go to this URL in a browser: https://accounts.google.com/o/oauth2/auth?client_id=947318989803-6bn6qk8qdgf4n4g3pfee6491hc0brc4i.apps.googleusercontent.com&redirect_uri=urn%3aietf%3awg%3aoauth%3a2.0%3aoob&response_type=code&scope=email%20https%3a%2f%2fwww.googleapis.com%2fauth%2fdocs.test%20https%3a%2f%2fwww.googleapis.com%2fauth%2fdrive%20https%3a%2f%2fwww.googleapis.com%2fauth%2fdrive.photos.readonly%20https%3a%2f%2fwww.googleapis.com%2fauth%2fpeopleapi.readonly\n",
            "\n",
            "Enter your authorization code:\n",
            "··········\n",
            "Mounted at /content/gdrive\n"
          ],
          "name": "stdout"
        }
      ]
    },
    {
      "cell_type": "markdown",
      "metadata": {
        "id": "b1m_f8hEhHUt",
        "colab_type": "text"
      },
      "source": [
        "# Function that converts latitude and longitude into respective zip code using GeoPy and OpenStreetMap's Nominatim API service\n"
      ]
    },
    {
      "cell_type": "code",
      "metadata": {
        "id": "qkuDBhZPeV4I",
        "colab_type": "code",
        "colab": {}
      },
      "source": [
        "def reversegeo(lat, lon):\n",
        "  locator = Nominatim(user_agent=\"myGeocoder\")\n",
        "  coordinates = str(lat)+\",\"+str(lon)\n",
        "  location = locator.reverse(coordinates)\n",
        "  if \"postcode\" in location.raw['address']:\n",
        "    return location.raw['address']['postcode']\n",
        "  else: return \"NA\""
      ],
      "execution_count": 0,
      "outputs": []
    },
    {
      "cell_type": "code",
      "metadata": {
        "id": "lVwEJiyVjsVZ",
        "colab_type": "code",
        "outputId": "ea01a99b-8d16-4080-f462-c8504a1fe940",
        "colab": {
          "base_uri": "https://localhost:8080/",
          "height": 35
        }
      },
      "source": [
        "drive.mount('/content/drive')"
      ],
      "execution_count": 5,
      "outputs": [
        {
          "output_type": "stream",
          "text": [
            "Mounted at /content/drive\n"
          ],
          "name": "stdout"
        }
      ]
    },
    {
      "cell_type": "code",
      "metadata": {
        "id": "hAVNArx9kAQ4",
        "colab_type": "code",
        "outputId": "e440249e-1193-4a49-ab62-a83856811d23",
        "colab": {
          "base_uri": "https://localhost:8080/",
          "height": 35
        }
      },
      "source": [
        "!ls \"/content/drive/My Drive/Mobility data\""
      ],
      "execution_count": 6,
      "outputs": [
        {
          "output_type": "stream",
          "text": [
            "202003-citibike-tripdata.csv  march_citiends.csv  march_citistarts.csv\n"
          ],
          "name": "stdout"
        }
      ]
    },
    {
      "cell_type": "code",
      "metadata": {
        "id": "k54TX5JJeapN",
        "colab_type": "code",
        "colab": {
          "base_uri": "https://localhost:8080/",
          "height": 72
        },
        "outputId": "5d5d116e-5c75-4874-c7d0-034c346d3748"
      },
      "source": [
        "import pandas as pd\n",
        "\n",
        "subway = pd.io.gbq.read_gbq('''\n",
        " SELECT s1.*,s2.station_lat, s2.station_lon FROM `bigquery-public-data.new_york_subway.subway_ridership_2013_present` s1\n",
        "inner join `bigquery-public-data.new_york_subway.stations` s2\n",
        "on s1.station_name=s2.station_name\n",
        "WHERE s2.station_lat IS NOT NULL AND s2.station_lon IS NOT NULL\n",
        "''', project_id='mit-covid-19-datathon', dialect='standard')\n",
        "\n"
      ],
      "execution_count": 8,
      "outputs": [
        {
          "output_type": "stream",
          "text": [
            "Please visit this URL to authorize this application: https://accounts.google.com/o/oauth2/auth?response_type=code&client_id=725825577420-unm2gnkiprugilg743tkbig250f4sfsj.apps.googleusercontent.com&redirect_uri=urn%3Aietf%3Awg%3Aoauth%3A2.0%3Aoob&scope=https%3A%2F%2Fwww.googleapis.com%2Fauth%2Fbigquery&state=kyVmqRabKXqOeYap1Csnw2tNCJzZMU&prompt=consent&access_type=offline\n",
            "Enter the authorization code: 4/zwFL_u6R022wWLKvD8h7bg_yvhT2LiGMpegkugz1La9-gRGnN5i-PlQ\n"
          ],
          "name": "stdout"
        }
      ]
    },
    {
      "cell_type": "markdown",
      "metadata": {
        "id": "caARSmkFkb7B",
        "colab_type": "text"
      },
      "source": [
        "## Applying the reversegeocoding function to obtain zipcode for subway station latitude and longitude\n"
      ]
    },
    {
      "cell_type": "code",
      "metadata": {
        "id": "n-1v5d_re63n",
        "colab_type": "code",
        "colab": {}
      },
      "source": [
        "subway['zipcode']=subway.apply(lambda x: reversegeo(x['station_lat'], x['station_lon']), axis=1)"
      ],
      "execution_count": 0,
      "outputs": []
    },
    {
      "cell_type": "markdown",
      "metadata": {
        "id": "0XCGqdrZkk_E",
        "colab_type": "text"
      },
      "source": [
        "## Truncating zipcodes longer than 5 digits to 5 digits"
      ]
    },
    {
      "cell_type": "code",
      "metadata": {
        "id": "SU4Wmzy4e9Be",
        "colab_type": "code",
        "colab": {}
      },
      "source": [
        " subway['zipcode']=subway['zipcode'].apply(lambda x: x[:5])\n"
      ],
      "execution_count": 0,
      "outputs": []
    },
    {
      "cell_type": "markdown",
      "metadata": {
        "id": "rxHWN573k1DJ",
        "colab_type": "text"
      },
      "source": [
        "## Removing zip codes which are NA and dropping the latitude,longitude, and duplicates"
      ]
    },
    {
      "cell_type": "code",
      "metadata": {
        "id": "BAUlN17HfBPp",
        "colab_type": "code",
        "colab": {}
      },
      "source": [
        " subway=subway[subway['zipcode']!='NA']\n",
        " subway=subway.drop(['station_lat','station_lon'],axis=1)\n",
        " subway=subway.drop_duplicates()"
      ],
      "execution_count": 0,
      "outputs": []
    },
    {
      "cell_type": "markdown",
      "metadata": {
        "id": "sFf3pJjE7FM9",
        "colab_type": "text"
      },
      "source": [
        "## Aggregating the number of riders for each year and averaging it over a 5 year period"
      ]
    },
    {
      "cell_type": "code",
      "metadata": {
        "id": "1g4hRm2OZhGS",
        "colab_type": "code",
        "colab": {}
      },
      "source": [
        "newdf=subway.groupby(['zipcode'])['ridership_2013'].sum().reset_index()"
      ],
      "execution_count": 0,
      "outputs": []
    },
    {
      "cell_type": "code",
      "metadata": {
        "id": "J86elr70sa0s",
        "colab_type": "code",
        "colab": {}
      },
      "source": [
        "newdf['station_count']=subway.groupby(['zipcode'])['station_name'].nunique().reset_index()['station_name']\n",
        "newdf['ridership_2014']=subway.groupby(['zipcode'])['ridership_2014'].sum().reset_index()['ridership_2014']\n",
        "newdf['ridership_2015']=subway.groupby(['zipcode'])['ridership_2015'].sum().reset_index()['ridership_2015']\n",
        "newdf['ridership_2016']=subway.groupby(['zipcode'])['ridership_2016'].sum().reset_index()['ridership_2016']\n",
        "newdf['ridership_2017']=subway.groupby(['zipcode'])['ridership_2017'].sum().reset_index()['ridership_2017']\n",
        "newdf['ridership_2018']=subway.groupby(['zipcode'])['ridership_2018'].sum().reset_index()['ridership_2018']\n",
        "newdf['average_riders']=(newdf['ridership_2013']+newdf['ridership_2014']+newdf['ridership_2015']+newdf['ridership_2016']+newdf['ridership_2017']+newdf['ridership_2018'])/5"
      ],
      "execution_count": 0,
      "outputs": []
    },
    {
      "cell_type": "code",
      "metadata": {
        "id": "029OlaN5E-OA",
        "colab_type": "code",
        "colab": {}
      },
      "source": [
        ""
      ],
      "execution_count": 0,
      "outputs": []
    },
    {
      "cell_type": "code",
      "metadata": {
        "id": "WiQ5TSALs2H2",
        "colab_type": "code",
        "colab": {}
      },
      "source": [
        "subwaydf=newdf[['zipcode','station_count','average_riders']]"
      ],
      "execution_count": 0,
      "outputs": []
    },
    {
      "cell_type": "code",
      "metadata": {
        "id": "OjDgMsCns5Rb",
        "colab_type": "code",
        "colab": {}
      },
      "source": [
        "subwaydf.to_csv('subway_updated.csv')"
      ],
      "execution_count": 0,
      "outputs": []
    }
  ]
}