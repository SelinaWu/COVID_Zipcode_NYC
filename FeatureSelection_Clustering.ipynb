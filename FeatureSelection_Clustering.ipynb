{
  "nbformat": 4,
  "nbformat_minor": 0,
  "metadata": {
    "colab": {
      "name": "MIT-COVID19-DATATHON-TeamE001.ipynb",
      "provenance": [],
      "collapsed_sections": [],
      "include_colab_link": true
    },
    "kernelspec": {
      "name": "python3",
      "display_name": "Python 3"
    }
  },
  "cells": [
    {
      "cell_type": "markdown",
      "metadata": {
        "id": "view-in-github",
        "colab_type": "text"
      },
      "source": [
        "<a href=\"https://colab.research.google.com/github/SelinaWu/COVID_Zipcode_NYC/blob/master/FeatureSelection_Clustering.ipynb\" target=\"_parent\"><img src=\"https://colab.research.google.com/assets/colab-badge.svg\" alt=\"Open In Colab\"/></a>"
      ]
    },
    {
      "cell_type": "markdown",
      "metadata": {
        "id": "HkdVQ6ixskE8",
        "colab_type": "text"
      },
      "source": [
        "# ** Feature Selection and Clustering module**\n",
        "# Author Fadoua Khmaissia (f0khma01@louisville.edu)\n",
        "## This notebook upload the preprocessed dataframe\n",
        "#### 1- Performs feature selection based on RReliefF and Correlation and Lasso\n",
        "#### 2- Select the intersection between the subsets chosen by each technique\n",
        "#### 3- Tresholds for RRelieff and Corretion were based on the assessement of cluster tendencies we chosen\n"
      ]
    },
    {
      "cell_type": "markdown",
      "metadata": {
        "id": "kDqoVG9XrnNZ",
        "colab_type": "text"
      },
      "source": [
        "# Importing Libraries and Packages"
      ]
    },
    {
      "cell_type": "code",
      "metadata": {
        "id": "uuJAgrhpqDCc",
        "colab_type": "code",
        "outputId": "41d6eb17-4fbf-4bbd-a951-c7321b47b24a",
        "colab": {
          "base_uri": "https://localhost:8080/",
          "height": 70
        }
      },
      "source": [
        "from sklearn.cluster import KMeans\n",
        "import numpy as np\n",
        "import pandas as pd\n",
        "from scipy import stats\n",
        "from sklearn import metrics\n",
        "import seaborn as sns\n",
        "\n",
        "from scipy.spatial.distance import cdist\n",
        "from sklearn.manifold import TSNE\n",
        "import matplotlib.pyplot as plt\n",
        "\n",
        "from google.colab import auth\n",
        "from google.cloud import bigquery\n",
        "import os\n",
        "auth.authenticate_user()\n",
        "print('Authenticated')"
      ],
      "execution_count": 0,
      "outputs": [
        {
          "output_type": "stream",
          "text": [
            "/usr/local/lib/python3.6/dist-packages/statsmodels/tools/_testing.py:19: FutureWarning: pandas.util.testing is deprecated. Use the functions in the public API at pandas.testing instead.\n",
            "  import pandas.util.testing as tm\n"
          ],
          "name": "stderr"
        },
        {
          "output_type": "stream",
          "text": [
            "Authenticated\n"
          ],
          "name": "stdout"
        }
      ]
    },
    {
      "cell_type": "markdown",
      "metadata": {
        "id": "PtiViGGZod7i",
        "colab_type": "text"
      },
      "source": [
        "# Load input data"
      ]
    },
    {
      "cell_type": "code",
      "metadata": {
        "id": "7_zy39DYoQeh",
        "colab_type": "code",
        "outputId": "e71267d4-766b-43ab-d1a2-3ef9c1bab04f",
        "colab": {
          "base_uri": "https://localhost:8080/",
          "height": 126
        }
      },
      "source": [
        "import pandas as pd \n",
        "# Code to read csv file into Colaboratory:\n",
        "!pip install -U -q PyDrive\n",
        "from pydrive.auth import GoogleAuth\n",
        "from pydrive.drive import GoogleDrive\n",
        "from google.colab import auth\n",
        "from oauth2client.client import GoogleCredentials\n",
        "# Authenticate and create the PyDrive client.\n",
        "auth.authenticate_user()\n",
        "gauth = GoogleAuth()\n",
        "gauth.credentials = GoogleCredentials.get_application_default()\n",
        "drive = GoogleDrive(gauth)\n",
        "from google.colab import drive \n",
        "drive.mount('/content/gdrive')"
      ],
      "execution_count": 0,
      "outputs": [
        {
          "output_type": "stream",
          "text": [
            "Go to this URL in a browser: https://accounts.google.com/o/oauth2/auth?client_id=947318989803-6bn6qk8qdgf4n4g3pfee6491hc0brc4i.apps.googleusercontent.com&redirect_uri=urn%3aietf%3awg%3aoauth%3a2.0%3aoob&response_type=code&scope=email%20https%3a%2f%2fwww.googleapis.com%2fauth%2fdocs.test%20https%3a%2f%2fwww.googleapis.com%2fauth%2fdrive%20https%3a%2f%2fwww.googleapis.com%2fauth%2fdrive.photos.readonly%20https%3a%2f%2fwww.googleapis.com%2fauth%2fpeopleapi.readonly\n",
            "\n",
            "Enter your authorization code:\n",
            "··········\n",
            "Mounted at /content/gdrive\n"
          ],
          "name": "stdout"
        }
      ]
    },
    {
      "cell_type": "markdown",
      "metadata": {
        "id": "ykDQHn22rwm8",
        "colab_type": "text"
      },
      "source": [
        "# Mounting Drive"
      ]
    },
    {
      "cell_type": "code",
      "metadata": {
        "id": "JZIgJbRfoiEt",
        "colab_type": "code",
        "outputId": "540bd559-96d3-4c5a-9167-a808c8307cbc",
        "colab": {
          "base_uri": "https://localhost:8080/",
          "height": 35
        }
      },
      "source": [
        "import glob\n",
        "\n",
        "# Importing drive method from colab for accessing google drive\n",
        "from google.colab import drive\n",
        "# Mounting drive\n",
        "# This will require authentication : Follow the steps as guided\n",
        "drive.mount('/content/drive')"
      ],
      "execution_count": 0,
      "outputs": [
        {
          "output_type": "stream",
          "text": [
            "Drive already mounted at /content/drive; to attempt to forcibly remount, call drive.mount(\"/content/drive\", force_remount=True).\n"
          ],
          "name": "stdout"
        }
      ]
    },
    {
      "cell_type": "markdown",
      "metadata": {
        "id": "Yt-N8dSjr4LT",
        "colab_type": "text"
      },
      "source": [
        "# List of available files"
      ]
    },
    {
      "cell_type": "code",
      "metadata": {
        "id": "dIMYOpm5oxzq",
        "colab_type": "code",
        "outputId": "023c58c4-67c4-4629-8a48-b7e35034a4ee",
        "colab": {
          "base_uri": "https://localhost:8080/",
          "height": 124
        }
      },
      "source": [
        "# Viewing the data in the folder present from the drive\n",
        "!ls \"/content/drive/My Drive/DATATHON/\""
      ],
      "execution_count": 0,
      "outputs": [
        {
          "output_type": "stream",
          "text": [
            " Code\t\t\t       OurHome.nyc.First.Edition.Download.xlsx\n",
            " coronavirus-data\t       Presentations\n",
            " data\t\t\t       Results\n",
            " gmap.html\t\t      'Script - Brainstorming'\n",
            " mit-covid-19-datathon.ipynb   visualization\n",
            "'Mobility data'\n"
          ],
          "name": "stdout"
        }
      ]
    },
    {
      "cell_type": "code",
      "metadata": {
        "id": "Ois2s8NEo1ye",
        "colab_type": "code",
        "colab": {}
      },
      "source": [
        "# getting list of \n",
        "data_files = glob.glob(\"/content/drive/My Drive/data/COVID_data/*.csv\")"
      ],
      "execution_count": 0,
      "outputs": []
    },
    {
      "cell_type": "code",
      "metadata": {
        "id": "EuDTK_vvo5gQ",
        "colab_type": "code",
        "colab": {}
      },
      "source": [
        "# Sort inputs in reverse chronoligical order\n",
        "data_files = sorted(data_files)[::-1]"
      ],
      "execution_count": 0,
      "outputs": []
    },
    {
      "cell_type": "markdown",
      "metadata": {
        "id": "iJqlHr79u7KL",
        "colab_type": "text"
      },
      "source": [
        "# Compute the Target variable defined as IR :  average increase of daily new cases"
      ]
    },
    {
      "cell_type": "code",
      "metadata": {
        "id": "jHEmw_D3o-ZJ",
        "colab_type": "code",
        "colab": {}
      },
      "source": [
        "# Compute average daily cases increase\n",
        "daily_infection_rate = pd.DataFrame()\n",
        "df_csv = pd.read_csv(data_files[0], index_col=None, header=0)\n",
        "\n",
        "daily_infection_rate['MODZCTA'] = df_csv['MODZCTA']\n",
        "daily_infection_rate['Positive_ref'] = df_csv['Positive']\n",
        "daily_infection_rate['IR'] = np.nan\n",
        "for filename in data_files[1:]:\n",
        "    df_csv = pd.read_csv(filename, index_col=None, header=0)\n",
        "    #df_csv.rename(columns={'MODZCTA':'geo_id'}, inplace=True)\n",
        "\n",
        "    daily_infection_rate = pd.merge(daily_infection_rate, df_csv[['MODZCTA', 'Positive']], on = 'MODZCTA', how = 'inner')\n",
        "    daily_infection_rate[filename.split('/')[-1]] = daily_infection_rate['Positive_ref'] - daily_infection_rate['Positive']\n",
        "    daily_infection_rate['IR'] = daily_infection_rate[[filename.split('/')[-1],'IR']].mean(axis = 1)\n",
        "    daily_infection_rate['Positive_ref'] = daily_infection_rate['Positive']\n",
        "    \n",
        "    daily_infection_rate = daily_infection_rate.drop(columns=['Positive'])\n",
        "    "
      ],
      "execution_count": 0,
      "outputs": []
    },
    {
      "cell_type": "code",
      "metadata": {
        "id": "a4ClUy6Ssb-_",
        "colab_type": "code",
        "colab": {}
      },
      "source": [
        "daily_infection_rate.rename(columns={'MODZCTA':'geo_id'}, inplace=True)\n",
        "daily_infection_rate = daily_infection_rate.iloc[1:]\n",
        "daily_infection_rate['geo_id'] = daily_infection_rate['geo_id'].astype(int)\n",
        "#daily_infection_rate.info()\n",
        "daily_infection_rate['geo_id'] = daily_infection_rate['geo_id'].astype(str)\n"
      ],
      "execution_count": 0,
      "outputs": []
    },
    {
      "cell_type": "markdown",
      "metadata": {
        "id": "Wi9bLX-zrpt_",
        "colab_type": "text"
      },
      "source": [
        "# Save daily IR"
      ]
    },
    {
      "cell_type": "code",
      "metadata": {
        "id": "Pmrd9PM3ro-z",
        "colab_type": "code",
        "outputId": "9889b4d1-caca-4b6f-f78f-d05540706a21",
        "colab": {
          "base_uri": "https://localhost:8080/",
          "height": 194
        }
      },
      "source": [
        "IR_Daily_and_Avge = pd.DataFrame()\n",
        "IR_Daily_and_Avge['geo_id'] = daily_infection_rate['geo_id']\n",
        "IR_Daily_and_Avge['IR'] = daily_infection_rate['IR']\n",
        "IR_Daily_and_Avge[daily_infection_rate.columns[3:][::-1]] = pd.DataFrame(daily_infection_rate[daily_infection_rate.columns[3:][::-1]])\n",
        "IR_Daily_and_Avge.to_csv('IR_Daily_and_Avge.csv',index=False)\n",
        "#!cp IR_Daily_and_Avge.csv \"drive/My Drive/\"\n",
        "daily_infection_rate = pd.DataFrame(IR_Daily_and_Avge[['geo_id','IR']])\n",
        "daily_infection_rate.head()"
      ],
      "execution_count": 0,
      "outputs": [
        {
          "output_type": "execute_result",
          "data": {
            "text/html": [
              "<div>\n",
              "<style scoped>\n",
              "    .dataframe tbody tr th:only-of-type {\n",
              "        vertical-align: middle;\n",
              "    }\n",
              "\n",
              "    .dataframe tbody tr th {\n",
              "        vertical-align: top;\n",
              "    }\n",
              "\n",
              "    .dataframe thead th {\n",
              "        text-align: right;\n",
              "    }\n",
              "</style>\n",
              "<table border=\"1\" class=\"dataframe\">\n",
              "  <thead>\n",
              "    <tr style=\"text-align: right;\">\n",
              "      <th></th>\n",
              "      <th>geo_id</th>\n",
              "      <th>IR</th>\n",
              "    </tr>\n",
              "  </thead>\n",
              "  <tbody>\n",
              "    <tr>\n",
              "      <th>1</th>\n",
              "      <td>10001</td>\n",
              "      <td>10.605568</td>\n",
              "    </tr>\n",
              "    <tr>\n",
              "      <th>2</th>\n",
              "      <td>10002</td>\n",
              "      <td>25.340386</td>\n",
              "    </tr>\n",
              "    <tr>\n",
              "      <th>3</th>\n",
              "      <td>10003</td>\n",
              "      <td>10.246684</td>\n",
              "    </tr>\n",
              "    <tr>\n",
              "      <th>4</th>\n",
              "      <td>10004</td>\n",
              "      <td>0.551049</td>\n",
              "    </tr>\n",
              "    <tr>\n",
              "      <th>5</th>\n",
              "      <td>10005</td>\n",
              "      <td>0.765631</td>\n",
              "    </tr>\n",
              "  </tbody>\n",
              "</table>\n",
              "</div>"
            ],
            "text/plain": [
              "  geo_id         IR\n",
              "1  10001  10.605568\n",
              "2  10002  25.340386\n",
              "3  10003  10.246684\n",
              "4  10004   0.551049\n",
              "5  10005   0.765631"
            ]
          },
          "metadata": {
            "tags": []
          },
          "execution_count": 9
        }
      ]
    },
    {
      "cell_type": "markdown",
      "metadata": {
        "id": "47Zb5KjmpgvT",
        "colab_type": "text"
      },
      "source": [
        "# Load merged csv file containing all input features"
      ]
    },
    {
      "cell_type": "code",
      "metadata": {
        "id": "diaC9Qmwplqr",
        "colab_type": "code",
        "colab": {}
      },
      "source": [
        "filename = '/content/drive/My Drive/data/final.csv'\n",
        "input_data = pd.read_csv(filename, index_col=None, header=0)"
      ],
      "execution_count": 0,
      "outputs": []
    },
    {
      "cell_type": "code",
      "metadata": {
        "id": "f7kI1koE52Th",
        "colab_type": "code",
        "outputId": "cc95cbde-0625-44ee-fc0c-07c107caa21a",
        "colab": {
          "base_uri": "https://localhost:8080/",
          "height": 35
        }
      },
      "source": [
        "input_data = pd.read_csv(filename, index_col=None, header=0)\n",
        "input_data.shape"
      ],
      "execution_count": 0,
      "outputs": [
        {
          "output_type": "execute_result",
          "data": {
            "text/plain": [
              "(174, 241)"
            ]
          },
          "metadata": {
            "tags": []
          },
          "execution_count": 6
        }
      ]
    },
    {
      "cell_type": "code",
      "metadata": {
        "id": "1g_G4dYAzvVs",
        "colab_type": "code",
        "outputId": "c7b55593-59d6-4600-e095-42b2fd995bf6",
        "colab": {
          "base_uri": "https://localhost:8080/",
          "height": 35
        }
      },
      "source": [
        "input_data.isnull().values.any()\n"
      ],
      "execution_count": 0,
      "outputs": [
        {
          "output_type": "execute_result",
          "data": {
            "text/plain": [
              "False"
            ]
          },
          "metadata": {
            "tags": []
          },
          "execution_count": 7
        }
      ]
    },
    {
      "cell_type": "markdown",
      "metadata": {
        "id": "NuBBCDf0usD9",
        "colab_type": "text"
      },
      "source": [
        "# Feature selection"
      ]
    },
    {
      "cell_type": "code",
      "metadata": {
        "id": "aEsrilyvuoqj",
        "colab_type": "code",
        "outputId": "90f408f3-8a43-4a7a-fd7e-12f8c92c0b8c",
        "colab": {
          "base_uri": "https://localhost:8080/",
          "height": 106
        }
      },
      "source": [
        "# X np.array input features\n",
        "# y np.array target variable\n",
        "# F List of feature names (list of strings)\n",
        "\n",
        "from sklearn import linear_model\n",
        "!pip install sklearn-relief==1.0.0b2\n",
        "import sklearn_relief as relief\n",
        "\n",
        "from sklearn.preprocessing import MinMaxScaler\n",
        "from sklearn import preprocessing\n",
        "\n",
        "def select_features(X,y,normalize): #normalize is 0 or 1 \n",
        "\n",
        "  if normalize == 1:\n",
        "    scaler = MinMaxScaler() \n",
        "    scaled_values = scaler.fit_transform(X) \n",
        "    X.loc[:,:] = scaled_values\n",
        "\n",
        "  corr_FS = dict()\n",
        "  relief_FS = dict()\n",
        "  lasso_FS = dict()\n",
        "\n",
        "  ## Correaltion\n",
        "  correlation = X.corrwith(y, axis = 0).abs()\n",
        "  corr_FS['ranked_W'] = sorted(list(correlation))[::-1]\n",
        "  corr_FS['ranked_idx'] = np.argsort(np.array(list(correlation)))[::-1]\n",
        "\n",
        "  ## rReliefF\n",
        "  r = relief.RReliefF(n_features=list(X.shape)[1])# Choose the best 3 features\n",
        "  my_transformed_matrix = r.fit_transform(np.asarray(X), np.asarray(y))\n",
        "  relief_FS['ranked_idx'] = np.argsort(r.w_)[::-1]\n",
        "  relief_FS['ranked_W']  = r.w_[np.argsort(r.w_)[::-1]]\n",
        "\n",
        "  ## Lasso\n",
        "  clf = linear_model.Lasso(alpha=0.1)\n",
        "  clf.fit(X, y)\n",
        "  lasso_FS['ranked_idx'] = np.argsort(np.abs(clf.coef_))[::-1]\n",
        "  lasso_FS['ranked_W']  = clf.coef_[np.argsort(clf.coef_)[::-1]]\n",
        "\n",
        "  return corr_FS, relief_FS, lasso_FS\n"
      ],
      "execution_count": 0,
      "outputs": [
        {
          "output_type": "stream",
          "text": [
            "Requirement already satisfied: sklearn-relief==1.0.0b2 in /usr/local/lib/python3.6/dist-packages (1.0.0b2)\n",
            "Requirement already satisfied: numpy>=1.13.3 in /usr/local/lib/python3.6/dist-packages (from sklearn-relief==1.0.0b2) (1.18.4)\n",
            "Requirement already satisfied: scikit-learn>=0.19.1 in /usr/local/lib/python3.6/dist-packages (from sklearn-relief==1.0.0b2) (0.22.2.post1)\n",
            "Requirement already satisfied: scipy>=1.0.0 in /usr/local/lib/python3.6/dist-packages (from sklearn-relief==1.0.0b2) (1.4.1)\n",
            "Requirement already satisfied: joblib>=0.11 in /usr/local/lib/python3.6/dist-packages (from scikit-learn>=0.19.1->sklearn-relief==1.0.0b2) (0.14.1)\n"
          ],
          "name": "stdout"
        }
      ]
    },
    {
      "cell_type": "code",
      "metadata": {
        "id": "QW3nXS5CxRnQ",
        "colab_type": "code",
        "outputId": "e02ec83a-f033-448d-a775-218658c62edc",
        "colab": {
          "base_uri": "https://localhost:8080/",
          "height": 159
        }
      },
      "source": [
        "input_data.columns"
      ],
      "execution_count": 0,
      "outputs": [
        {
          "output_type": "execute_result",
          "data": {
            "text/plain": [
              "Index(['geo_id', 'total_pop', 'households', 'male_pop', 'female_pop',\n",
              "       'median_age', 'male_under_5', 'male_5_to_9', 'male_10_to_14',\n",
              "       'male_15_to_17',\n",
              "       ...\n",
              "       'in_grades_1_to_4', 'in_grades_5_to_8', 'in_grades_9_to_12',\n",
              "       'in_school', 'in_undergrad_college', 'IR', 'tripcount', 'tripcount_end',\n",
              "       'station_count', 'average_riders'],\n",
              "      dtype='object', length=241)"
            ]
          },
          "metadata": {
            "tags": []
          },
          "execution_count": 14
        }
      ]
    },
    {
      "cell_type": "code",
      "metadata": {
        "id": "btiR4l26u3vd",
        "colab_type": "code",
        "outputId": "c36c8159-abc6-4318-b408-f8f603a67abe",
        "colab": {
          "base_uri": "https://localhost:8080/",
          "height": 159
        }
      },
      "source": [
        "# Define input and output\n",
        "y = input_data['IR'] #target variable\n",
        "input_data.drop(['IR'], axis=1, inplace=True)\n",
        "input_data.columns\n",
        "X = input_data.iloc[:,1:] # Raw input features\n",
        "Features = input_data.columns[1:]\n",
        "zips = input_data['geo_id'] "
      ],
      "execution_count": 0,
      "outputs": [
        {
          "output_type": "execute_result",
          "data": {
            "text/plain": [
              "Index(['geo_id', 'total_pop', 'households', 'male_pop', 'female_pop',\n",
              "       'median_age', 'male_under_5', 'male_5_to_9', 'male_10_to_14',\n",
              "       'male_15_to_17',\n",
              "       ...\n",
              "       'sales_office_employed', 'in_grades_1_to_4', 'in_grades_5_to_8',\n",
              "       'in_grades_9_to_12', 'in_school', 'in_undergrad_college', 'tripcount',\n",
              "       'tripcount_end', 'station_count', 'average_riders'],\n",
              "      dtype='object', length=240)"
            ]
          },
          "metadata": {
            "tags": []
          },
          "execution_count": 9
        }
      ]
    },
    {
      "cell_type": "markdown",
      "metadata": {
        "id": "-9mV8xZnvRuX",
        "colab_type": "text"
      },
      "source": [
        "**Run Feature Selection algorithms**"
      ]
    },
    {
      "cell_type": "code",
      "metadata": {
        "id": "Ru8wpRYSvYmP",
        "colab_type": "code",
        "outputId": "5d73206d-cf9a-4d69-edf0-8da207e6aa50",
        "colab": {
          "base_uri": "https://localhost:8080/",
          "height": 72
        }
      },
      "source": [
        "# Run feature selection \n",
        "corr_FS, relief_FS, lasso_FS = select_features(X,y,0)"
      ],
      "execution_count": 0,
      "outputs": [
        {
          "output_type": "stream",
          "text": [
            "/usr/local/lib/python3.6/dist-packages/sklearn/linear_model/_coordinate_descent.py:476: ConvergenceWarning: Objective did not converge. You might want to increase the number of iterations. Duality gap: 154.81787653711558, tolerance: 7.112868407187919\n",
            "  positive)\n"
          ],
          "name": "stderr"
        }
      ]
    },
    {
      "cell_type": "markdown",
      "metadata": {
        "id": "Jtc0hrM7x_YU",
        "colab_type": "text"
      },
      "source": [
        "# Select to subset of features "
      ]
    },
    {
      "cell_type": "code",
      "metadata": {
        "id": "Fa567c0m8Gim",
        "colab_type": "code",
        "outputId": "44f2088c-f112-407e-b3f2-b75b4fddb740",
        "colab": {
          "base_uri": "https://localhost:8080/",
          "height": 248
        }
      },
      "source": [
        "mask_coor = np.array(corr_FS['ranked_W']) > 0.6 # 0.6 threshold for corr, -10 for relief ## Thresholds are chosen based on trial and error\n",
        "select_idx = corr_FS['ranked_idx'][mask_coor]\n",
        "print(Features[mask_coor])\n",
        "features_Corr = pd.DataFrame()\n",
        "features_Corr['selected features'] = list(Features[mask_coor])\n",
        "features_Corr.to_csv('features_corr1.csv',index=False)\n",
        "!cp features_corr1.csv \"drive/My Drive/DATATHON/Results\""
      ],
      "execution_count": 0,
      "outputs": [
        {
          "output_type": "stream",
          "text": [
            "/usr/local/lib/python3.6/dist-packages/ipykernel_launcher.py:1: RuntimeWarning: invalid value encountered in greater\n",
            "  \"\"\"Entry point for launching an IPython kernel.\n"
          ],
          "name": "stderr"
        },
        {
          "output_type": "stream",
          "text": [
            "Index(['total_pop', 'households', 'male_pop', 'female_pop', 'median_age',\n",
            "       'male_under_5', 'male_5_to_9', 'male_10_to_14', 'male_15_to_17',\n",
            "       'male_18_to_19',\n",
            "       ...\n",
            "       'employed_finance_insurance_real_estate', 'employed_information',\n",
            "       'employed_manufacturing', 'employed_other_services_not_public_admin',\n",
            "       'employed_public_administration', 'employed_retail_trade',\n",
            "       'employed_science_management_admin_waste',\n",
            "       'employed_transportation_warehousing_utilities',\n",
            "       'employed_wholesale_trade', 'occupation_management_arts'],\n",
            "      dtype='object', length=113)\n"
          ],
          "name": "stdout"
        }
      ]
    },
    {
      "cell_type": "code",
      "metadata": {
        "id": "_a8xCy4_-1Gz",
        "colab_type": "code",
        "colab": {}
      },
      "source": [
        "#corr_select_idx = select_idx\n",
        "reduced_data = X.iloc[:,select_idx]\n",
        "\n"
      ],
      "execution_count": 0,
      "outputs": []
    },
    {
      "cell_type": "code",
      "metadata": {
        "id": "6N-fYUxahTXO",
        "colab_type": "code",
        "outputId": "ba8d0198-863d-4f1e-cbd2-b2aa836aa27d",
        "colab": {
          "base_uri": "https://localhost:8080/",
          "height": 243
        }
      },
      "source": [
        "reduced_data.head()"
      ],
      "execution_count": 0,
      "outputs": [
        {
          "output_type": "execute_result",
          "data": {
            "text/html": [
              "<div>\n",
              "<style scoped>\n",
              "    .dataframe tbody tr th:only-of-type {\n",
              "        vertical-align: middle;\n",
              "    }\n",
              "\n",
              "    .dataframe tbody tr th {\n",
              "        vertical-align: top;\n",
              "    }\n",
              "\n",
              "    .dataframe thead th {\n",
              "        text-align: right;\n",
              "    }\n",
              "</style>\n",
              "<table border=\"1\" class=\"dataframe\">\n",
              "  <thead>\n",
              "    <tr style=\"text-align: right;\">\n",
              "      <th></th>\n",
              "      <th>pop_separated</th>\n",
              "      <th>pop_5_years_over</th>\n",
              "      <th>pop_widowed</th>\n",
              "      <th>pop_now_married</th>\n",
              "      <th>pop_never_married</th>\n",
              "      <th>pop_15_and_over</th>\n",
              "      <th>pop_divorced</th>\n",
              "      <th>male_10_to_14</th>\n",
              "      <th>in_grades_5_to_8</th>\n",
              "      <th>occupation_services</th>\n",
              "      <th>in_grades_9_to_12</th>\n",
              "      <th>high_school_including_ged</th>\n",
              "      <th>occupation_production_transportation_material</th>\n",
              "      <th>children</th>\n",
              "      <th>female_10_to_14</th>\n",
              "      <th>male_15_to_17</th>\n",
              "      <th>some_college_and_associates_degree</th>\n",
              "      <th>high_school_diploma</th>\n",
              "      <th>female_15_to_17</th>\n",
              "      <th>in_school</th>\n",
              "      <th>in_grades_1_to_4</th>\n",
              "      <th>commute_60_more_mins</th>\n",
              "      <th>male_45_64_high_school</th>\n",
              "      <th>one_year_more_college</th>\n",
              "      <th>female_5_to_9</th>\n",
              "      <th>male_5_to_9</th>\n",
              "      <th>employed_transportation_warehousing_utilities</th>\n",
              "      <th>male_45_64_some_college</th>\n",
              "      <th>family_households</th>\n",
              "      <th>employed_retail_trade</th>\n",
              "      <th>aggregate_travel_time_to_work</th>\n",
              "      <th>male_pop</th>\n",
              "      <th>associates_degree</th>\n",
              "      <th>total_pop</th>\n",
              "      <th>pop_determined_poverty_status</th>\n",
              "      <th>population_1_year_and_over</th>\n",
              "      <th>population_3_years_over</th>\n",
              "      <th>income_40000_44999</th>\n",
              "      <th>female_under_5</th>\n",
              "      <th>not_in_labor_force</th>\n",
              "      <th>...</th>\n",
              "      <th>no_car</th>\n",
              "      <th>dwellings_20_to_49_units</th>\n",
              "      <th>tripcount</th>\n",
              "      <th>three_cars</th>\n",
              "      <th>dwellings_1_units_detached</th>\n",
              "      <th>income_125000_149999</th>\n",
              "      <th>rent_10_to_15_percent</th>\n",
              "      <th>two_or_more_races_pop</th>\n",
              "      <th>asian_male_45_54</th>\n",
              "      <th>asian_male_55_64</th>\n",
              "      <th>four_more_cars</th>\n",
              "      <th>asian_pop</th>\n",
              "      <th>median_age</th>\n",
              "      <th>income_200000_or_more</th>\n",
              "      <th>male_45_64_bachelors_degree</th>\n",
              "      <th>commute_20_24_mins</th>\n",
              "      <th>station_count</th>\n",
              "      <th>nonfamily_households</th>\n",
              "      <th>vacant_housing_units_for_sale</th>\n",
              "      <th>male_male_households</th>\n",
              "      <th>bachelors_degree_2</th>\n",
              "      <th>bachelors_degree</th>\n",
              "      <th>gini_index</th>\n",
              "      <th>group_quarters</th>\n",
              "      <th>dwellings_50_or_more_units</th>\n",
              "      <th>housing_built_2000_to_2004</th>\n",
              "      <th>female_female_households</th>\n",
              "      <th>other_race_pop</th>\n",
              "      <th>dwellings_5_to_9_units</th>\n",
              "      <th>employed_science_management_admin_waste</th>\n",
              "      <th>income_150000_199999</th>\n",
              "      <th>different_house_year_ago_different_city</th>\n",
              "      <th>vacant_housing_units_for_rent</th>\n",
              "      <th>management_business_sci_arts_employed</th>\n",
              "      <th>occupation_management_arts</th>\n",
              "      <th>armed_forces</th>\n",
              "      <th>average_riders</th>\n",
              "      <th>commute_25_29_mins</th>\n",
              "      <th>median_year_structure_built</th>\n",
              "      <th>walked_to_work</th>\n",
              "    </tr>\n",
              "  </thead>\n",
              "  <tbody>\n",
              "    <tr>\n",
              "      <th>0</th>\n",
              "      <td>0</td>\n",
              "      <td>0</td>\n",
              "      <td>0</td>\n",
              "      <td>0</td>\n",
              "      <td>0</td>\n",
              "      <td>0</td>\n",
              "      <td>0</td>\n",
              "      <td>104.0</td>\n",
              "      <td>80.0</td>\n",
              "      <td>399.0</td>\n",
              "      <td>114.0</td>\n",
              "      <td>863.0</td>\n",
              "      <td>87.0</td>\n",
              "      <td>770.0</td>\n",
              "      <td>114.0</td>\n",
              "      <td>36.0</td>\n",
              "      <td>818.0</td>\n",
              "      <td>776.0</td>\n",
              "      <td>25.0</td>\n",
              "      <td>824.0</td>\n",
              "      <td>254.0</td>\n",
              "      <td>636.0</td>\n",
              "      <td>144.0</td>\n",
              "      <td>317.0</td>\n",
              "      <td>96.0</td>\n",
              "      <td>175.0</td>\n",
              "      <td>44.0</td>\n",
              "      <td>101.0</td>\n",
              "      <td>1058.0</td>\n",
              "      <td>192.0</td>\n",
              "      <td>0.0</td>\n",
              "      <td>2162.0</td>\n",
              "      <td>400.0</td>\n",
              "      <td>4434.0</td>\n",
              "      <td>4434.0</td>\n",
              "      <td>4343.0</td>\n",
              "      <td>4259.0</td>\n",
              "      <td>36.0</td>\n",
              "      <td>148.0</td>\n",
              "      <td>1118.0</td>\n",
              "      <td>...</td>\n",
              "      <td>131.0</td>\n",
              "      <td>84.0</td>\n",
              "      <td>0.0</td>\n",
              "      <td>180.0</td>\n",
              "      <td>1056.0</td>\n",
              "      <td>239.0</td>\n",
              "      <td>43.0</td>\n",
              "      <td>0.0</td>\n",
              "      <td>0.0</td>\n",
              "      <td>19.0</td>\n",
              "      <td>40.0</td>\n",
              "      <td>245.0</td>\n",
              "      <td>44.9</td>\n",
              "      <td>249.0</td>\n",
              "      <td>145.0</td>\n",
              "      <td>70.0</td>\n",
              "      <td>0.0</td>\n",
              "      <td>835.0</td>\n",
              "      <td>0.0</td>\n",
              "      <td>37.0</td>\n",
              "      <td>781.0</td>\n",
              "      <td>781.0</td>\n",
              "      <td>0.4191</td>\n",
              "      <td>18.0</td>\n",
              "      <td>136.0</td>\n",
              "      <td>0.0</td>\n",
              "      <td>0.0</td>\n",
              "      <td>23.0</td>\n",
              "      <td>39.0</td>\n",
              "      <td>254.0</td>\n",
              "      <td>276.0</td>\n",
              "      <td>99.0</td>\n",
              "      <td>0.0</td>\n",
              "      <td>1157.0</td>\n",
              "      <td>1157.0</td>\n",
              "      <td>0.0</td>\n",
              "      <td>0.0</td>\n",
              "      <td>39.0</td>\n",
              "      <td>1954.0</td>\n",
              "      <td>117.0</td>\n",
              "    </tr>\n",
              "    <tr>\n",
              "      <th>1</th>\n",
              "      <td>0</td>\n",
              "      <td>0</td>\n",
              "      <td>0</td>\n",
              "      <td>0</td>\n",
              "      <td>0</td>\n",
              "      <td>0</td>\n",
              "      <td>0</td>\n",
              "      <td>473.0</td>\n",
              "      <td>752.0</td>\n",
              "      <td>1361.0</td>\n",
              "      <td>661.0</td>\n",
              "      <td>2617.0</td>\n",
              "      <td>381.0</td>\n",
              "      <td>3473.0</td>\n",
              "      <td>420.0</td>\n",
              "      <td>339.0</td>\n",
              "      <td>3208.0</td>\n",
              "      <td>2284.0</td>\n",
              "      <td>158.0</td>\n",
              "      <td>5457.0</td>\n",
              "      <td>726.0</td>\n",
              "      <td>3254.0</td>\n",
              "      <td>537.0</td>\n",
              "      <td>1684.0</td>\n",
              "      <td>476.0</td>\n",
              "      <td>429.0</td>\n",
              "      <td>254.0</td>\n",
              "      <td>436.0</td>\n",
              "      <td>4720.0</td>\n",
              "      <td>664.0</td>\n",
              "      <td>418700.0</td>\n",
              "      <td>10378.0</td>\n",
              "      <td>808.0</td>\n",
              "      <td>21896.0</td>\n",
              "      <td>18823.0</td>\n",
              "      <td>21733.0</td>\n",
              "      <td>21278.0</td>\n",
              "      <td>175.0</td>\n",
              "      <td>532.0</td>\n",
              "      <td>8019.0</td>\n",
              "      <td>...</td>\n",
              "      <td>1585.0</td>\n",
              "      <td>1392.0</td>\n",
              "      <td>0.0</td>\n",
              "      <td>221.0</td>\n",
              "      <td>1351.0</td>\n",
              "      <td>647.0</td>\n",
              "      <td>517.0</td>\n",
              "      <td>300.0</td>\n",
              "      <td>72.0</td>\n",
              "      <td>119.0</td>\n",
              "      <td>60.0</td>\n",
              "      <td>1262.0</td>\n",
              "      <td>44.9</td>\n",
              "      <td>1213.0</td>\n",
              "      <td>640.0</td>\n",
              "      <td>565.0</td>\n",
              "      <td>0.0</td>\n",
              "      <td>3878.0</td>\n",
              "      <td>80.0</td>\n",
              "      <td>26.0</td>\n",
              "      <td>3686.0</td>\n",
              "      <td>3686.0</td>\n",
              "      <td>0.5057</td>\n",
              "      <td>3137.0</td>\n",
              "      <td>5143.0</td>\n",
              "      <td>78.0</td>\n",
              "      <td>0.0</td>\n",
              "      <td>236.0</td>\n",
              "      <td>114.0</td>\n",
              "      <td>1338.0</td>\n",
              "      <td>799.0</td>\n",
              "      <td>1041.0</td>\n",
              "      <td>213.0</td>\n",
              "      <td>5783.0</td>\n",
              "      <td>5783.0</td>\n",
              "      <td>0.0</td>\n",
              "      <td>0.0</td>\n",
              "      <td>483.0</td>\n",
              "      <td>1956.0</td>\n",
              "      <td>607.0</td>\n",
              "    </tr>\n",
              "    <tr>\n",
              "      <th>2</th>\n",
              "      <td>0</td>\n",
              "      <td>0</td>\n",
              "      <td>0</td>\n",
              "      <td>0</td>\n",
              "      <td>0</td>\n",
              "      <td>0</td>\n",
              "      <td>0</td>\n",
              "      <td>2360.0</td>\n",
              "      <td>4063.0</td>\n",
              "      <td>7874.0</td>\n",
              "      <td>4559.0</td>\n",
              "      <td>11681.0</td>\n",
              "      <td>2798.0</td>\n",
              "      <td>17967.0</td>\n",
              "      <td>2615.0</td>\n",
              "      <td>1627.0</td>\n",
              "      <td>11237.0</td>\n",
              "      <td>10179.0</td>\n",
              "      <td>1489.0</td>\n",
              "      <td>20778.0</td>\n",
              "      <td>4180.0</td>\n",
              "      <td>9831.0</td>\n",
              "      <td>1959.0</td>\n",
              "      <td>6495.0</td>\n",
              "      <td>2625.0</td>\n",
              "      <td>2510.0</td>\n",
              "      <td>2592.0</td>\n",
              "      <td>1424.0</td>\n",
              "      <td>15940.0</td>\n",
              "      <td>2576.0</td>\n",
              "      <td>1332045.0</td>\n",
              "      <td>30595.0</td>\n",
              "      <td>2980.0</td>\n",
              "      <td>67040.0</td>\n",
              "      <td>66700.0</td>\n",
              "      <td>66167.0</td>\n",
              "      <td>64347.0</td>\n",
              "      <td>959.0</td>\n",
              "      <td>2219.0</td>\n",
              "      <td>18279.0</td>\n",
              "      <td>...</td>\n",
              "      <td>9874.0</td>\n",
              "      <td>3773.0</td>\n",
              "      <td>0.0</td>\n",
              "      <td>638.0</td>\n",
              "      <td>4717.0</td>\n",
              "      <td>1300.0</td>\n",
              "      <td>838.0</td>\n",
              "      <td>961.0</td>\n",
              "      <td>149.0</td>\n",
              "      <td>191.0</td>\n",
              "      <td>146.0</td>\n",
              "      <td>2828.0</td>\n",
              "      <td>35.6</td>\n",
              "      <td>1688.0</td>\n",
              "      <td>1329.0</td>\n",
              "      <td>2392.0</td>\n",
              "      <td>0.0</td>\n",
              "      <td>6327.0</td>\n",
              "      <td>178.0</td>\n",
              "      <td>18.0</td>\n",
              "      <td>8873.0</td>\n",
              "      <td>8873.0</td>\n",
              "      <td>0.4653</td>\n",
              "      <td>302.0</td>\n",
              "      <td>6332.0</td>\n",
              "      <td>146.0</td>\n",
              "      <td>55.0</td>\n",
              "      <td>626.0</td>\n",
              "      <td>590.0</td>\n",
              "      <td>3025.0</td>\n",
              "      <td>1501.0</td>\n",
              "      <td>395.0</td>\n",
              "      <td>381.0</td>\n",
              "      <td>12443.0</td>\n",
              "      <td>12443.0</td>\n",
              "      <td>10.0</td>\n",
              "      <td>0.0</td>\n",
              "      <td>1108.0</td>\n",
              "      <td>0.0</td>\n",
              "      <td>1696.0</td>\n",
              "    </tr>\n",
              "    <tr>\n",
              "      <th>3</th>\n",
              "      <td>0</td>\n",
              "      <td>0</td>\n",
              "      <td>0</td>\n",
              "      <td>0</td>\n",
              "      <td>0</td>\n",
              "      <td>0</td>\n",
              "      <td>0</td>\n",
              "      <td>657.0</td>\n",
              "      <td>1084.0</td>\n",
              "      <td>3446.0</td>\n",
              "      <td>1197.0</td>\n",
              "      <td>4663.0</td>\n",
              "      <td>1695.0</td>\n",
              "      <td>5902.0</td>\n",
              "      <td>671.0</td>\n",
              "      <td>425.0</td>\n",
              "      <td>2855.0</td>\n",
              "      <td>3523.0</td>\n",
              "      <td>385.0</td>\n",
              "      <td>6057.0</td>\n",
              "      <td>1699.0</td>\n",
              "      <td>3418.0</td>\n",
              "      <td>671.0</td>\n",
              "      <td>1567.0</td>\n",
              "      <td>1089.0</td>\n",
              "      <td>919.0</td>\n",
              "      <td>672.0</td>\n",
              "      <td>408.0</td>\n",
              "      <td>5813.0</td>\n",
              "      <td>1258.0</td>\n",
              "      <td>529430.0</td>\n",
              "      <td>14304.0</td>\n",
              "      <td>796.0</td>\n",
              "      <td>27602.0</td>\n",
              "      <td>25379.0</td>\n",
              "      <td>27222.0</td>\n",
              "      <td>26450.0</td>\n",
              "      <td>404.0</td>\n",
              "      <td>991.0</td>\n",
              "      <td>7880.0</td>\n",
              "      <td>...</td>\n",
              "      <td>7776.0</td>\n",
              "      <td>1568.0</td>\n",
              "      <td>16.0</td>\n",
              "      <td>82.0</td>\n",
              "      <td>210.0</td>\n",
              "      <td>413.0</td>\n",
              "      <td>423.0</td>\n",
              "      <td>630.0</td>\n",
              "      <td>367.0</td>\n",
              "      <td>304.0</td>\n",
              "      <td>13.0</td>\n",
              "      <td>5268.0</td>\n",
              "      <td>33.8</td>\n",
              "      <td>566.0</td>\n",
              "      <td>431.0</td>\n",
              "      <td>845.0</td>\n",
              "      <td>1.0</td>\n",
              "      <td>2999.0</td>\n",
              "      <td>9.0</td>\n",
              "      <td>0.0</td>\n",
              "      <td>3570.0</td>\n",
              "      <td>3570.0</td>\n",
              "      <td>0.4612</td>\n",
              "      <td>2016.0</td>\n",
              "      <td>317.0</td>\n",
              "      <td>135.0</td>\n",
              "      <td>47.0</td>\n",
              "      <td>126.0</td>\n",
              "      <td>1839.0</td>\n",
              "      <td>1712.0</td>\n",
              "      <td>479.0</td>\n",
              "      <td>1004.0</td>\n",
              "      <td>149.0</td>\n",
              "      <td>4788.0</td>\n",
              "      <td>4788.0</td>\n",
              "      <td>0.0</td>\n",
              "      <td>4743.4</td>\n",
              "      <td>332.0</td>\n",
              "      <td>0.0</td>\n",
              "      <td>1255.0</td>\n",
              "    </tr>\n",
              "    <tr>\n",
              "      <th>4</th>\n",
              "      <td>0</td>\n",
              "      <td>0</td>\n",
              "      <td>0</td>\n",
              "      <td>0</td>\n",
              "      <td>0</td>\n",
              "      <td>0</td>\n",
              "      <td>0</td>\n",
              "      <td>480.0</td>\n",
              "      <td>827.0</td>\n",
              "      <td>2012.0</td>\n",
              "      <td>1033.0</td>\n",
              "      <td>5077.0</td>\n",
              "      <td>1288.0</td>\n",
              "      <td>3784.0</td>\n",
              "      <td>550.0</td>\n",
              "      <td>366.0</td>\n",
              "      <td>3754.0</td>\n",
              "      <td>4450.0</td>\n",
              "      <td>419.0</td>\n",
              "      <td>5022.0</td>\n",
              "      <td>827.0</td>\n",
              "      <td>3183.0</td>\n",
              "      <td>1126.0</td>\n",
              "      <td>1699.0</td>\n",
              "      <td>503.0</td>\n",
              "      <td>532.0</td>\n",
              "      <td>1023.0</td>\n",
              "      <td>550.0</td>\n",
              "      <td>4682.0</td>\n",
              "      <td>1016.0</td>\n",
              "      <td>411000.0</td>\n",
              "      <td>9208.0</td>\n",
              "      <td>1331.0</td>\n",
              "      <td>18929.0</td>\n",
              "      <td>18914.0</td>\n",
              "      <td>18753.0</td>\n",
              "      <td>18478.0</td>\n",
              "      <td>167.0</td>\n",
              "      <td>433.0</td>\n",
              "      <td>5917.0</td>\n",
              "      <td>...</td>\n",
              "      <td>751.0</td>\n",
              "      <td>142.0</td>\n",
              "      <td>0.0</td>\n",
              "      <td>487.0</td>\n",
              "      <td>3887.0</td>\n",
              "      <td>506.0</td>\n",
              "      <td>60.0</td>\n",
              "      <td>1845.0</td>\n",
              "      <td>424.0</td>\n",
              "      <td>424.0</td>\n",
              "      <td>153.0</td>\n",
              "      <td>4805.0</td>\n",
              "      <td>40.8</td>\n",
              "      <td>306.0</td>\n",
              "      <td>278.0</td>\n",
              "      <td>938.0</td>\n",
              "      <td>0.0</td>\n",
              "      <td>876.0</td>\n",
              "      <td>67.0</td>\n",
              "      <td>0.0</td>\n",
              "      <td>1736.0</td>\n",
              "      <td>1736.0</td>\n",
              "      <td>0.4006</td>\n",
              "      <td>22.0</td>\n",
              "      <td>179.0</td>\n",
              "      <td>0.0</td>\n",
              "      <td>0.0</td>\n",
              "      <td>1507.0</td>\n",
              "      <td>99.0</td>\n",
              "      <td>778.0</td>\n",
              "      <td>593.0</td>\n",
              "      <td>122.0</td>\n",
              "      <td>134.0</td>\n",
              "      <td>2546.0</td>\n",
              "      <td>2546.0</td>\n",
              "      <td>0.0</td>\n",
              "      <td>0.0</td>\n",
              "      <td>260.0</td>\n",
              "      <td>0.0</td>\n",
              "      <td>190.0</td>\n",
              "    </tr>\n",
              "  </tbody>\n",
              "</table>\n",
              "<p>5 rows × 113 columns</p>\n",
              "</div>"
            ],
            "text/plain": [
              "   pop_separated  pop_5_years_over  ...  median_year_structure_built  walked_to_work\n",
              "0              0                 0  ...                       1954.0           117.0\n",
              "1              0                 0  ...                       1956.0           607.0\n",
              "2              0                 0  ...                          0.0          1696.0\n",
              "3              0                 0  ...                          0.0          1255.0\n",
              "4              0                 0  ...                          0.0           190.0\n",
              "\n",
              "[5 rows x 113 columns]"
            ]
          },
          "metadata": {
            "tags": []
          },
          "execution_count": 88
        }
      ]
    },
    {
      "cell_type": "code",
      "metadata": {
        "id": "Pztd97sHeJzF",
        "colab_type": "code",
        "outputId": "c66587dd-94c3-4ea8-f54b-b603739aba01",
        "colab": {
          "base_uri": "https://localhost:8080/",
          "height": 35
        }
      },
      "source": [
        "input_data.iloc[:,236:].columns"
      ],
      "execution_count": 0,
      "outputs": [
        {
          "output_type": "execute_result",
          "data": {
            "text/plain": [
              "Index(['tripcount', 'tripcount_end', 'station_count', 'average_riders'], dtype='object')"
            ]
          },
          "metadata": {
            "tags": []
          },
          "execution_count": 32
        }
      ]
    },
    {
      "cell_type": "code",
      "metadata": {
        "id": "Aka9d01oZO3W",
        "colab_type": "code",
        "colab": {}
      },
      "source": [
        "R = pd.DataFrame(reduced_data)"
      ],
      "execution_count": 0,
      "outputs": []
    },
    {
      "cell_type": "code",
      "metadata": {
        "id": "g6pbnbMre2Ma",
        "colab_type": "code",
        "colab": {}
      },
      "source": [
        "features_Corr = pd.DataFrame()\n",
        "features_Corr['selected features'] = list(reduced_data.columns)\n",
        "features_Corr.to_csv('features_corr1.csv',index=False)\n",
        "!cp features_corr1.csv \"drive/My Drive/DATATHON/Results\"\n"
      ],
      "execution_count": 0,
      "outputs": []
    },
    {
      "cell_type": "markdown",
      "metadata": {
        "id": "Yli7CQIq-cjq",
        "colab_type": "text"
      },
      "source": [
        "# Clustering"
      ]
    },
    {
      "cell_type": "code",
      "metadata": {
        "id": "bkDBiwjuF2-4",
        "colab_type": "code",
        "colab": {}
      },
      "source": [
        "#kmeans_2 = KMeans(n_clusters=8).fit(reduced_data)\n",
        "#ultimate = kmeans_2\n",
        "census_data_embedded_2 = TSNE(n_components=2).fit_transform(reduced_data)"
      ],
      "execution_count": 0,
      "outputs": []
    },
    {
      "cell_type": "markdown",
      "metadata": {
        "id": "i2AuoXLZvkx9",
        "colab_type": "text"
      },
      "source": [
        "# **Assign cluster IDs based on the ranking of the average IR among member zips** (For interpretability reasons)"
      ]
    },
    {
      "cell_type": "code",
      "metadata": {
        "id": "qFyr1D6t-fdF",
        "colab_type": "code",
        "colab": {}
      },
      "source": [
        "\n",
        "##\n",
        "covid_data = pd.DataFrame()\n",
        "covid_data['IR'] = y\n",
        "cov2 = covid_data.groupby(kmeans_2.labels_).mean()\n",
        "cov2.shape\n",
        "\n",
        "sorted_avIR = np.argsort(cov2['IR'])\n",
        "\n",
        "\n",
        "\n",
        "\n",
        "##\n",
        "num_clusters = 8\n",
        "cluster_ids = kmeans_2.labels_[:]\n",
        "\n",
        "cluster_ids_ = np.zeros(len(cluster_ids)).astype(int)\n",
        "\n",
        "for j in range(num_clusters):\n",
        "  mask = cluster_ids == sorted_avIR[j].astype(int)\n",
        "  cluster_ids_[mask] = j\n",
        "  \n"
      ],
      "execution_count": 0,
      "outputs": []
    },
    {
      "cell_type": "markdown",
      "metadata": {
        "id": "KJlOcdQsvzFW",
        "colab_type": "text"
      },
      "source": [
        "# **Scatter plot of clusters in t-SNE 2D embedded feature space**"
      ]
    },
    {
      "cell_type": "code",
      "metadata": {
        "id": "B9qZsS6eGEFj",
        "colab_type": "code",
        "outputId": "9f5b1bdf-ec75-4bec-a639-bbebf31320b8",
        "colab": {
          "base_uri": "https://localhost:8080/",
          "height": 404
        }
      },
      "source": [
        "## \n",
        "# Create custom legend\n",
        "from matplotlib.lines import Line2D\n",
        "from matplotlib import cm\n",
        "cmaps = cm.get_cmap('Spectral', 8)\n",
        "\n",
        "#num_clusters = 8\n",
        "legend_elements = []\n",
        "measure = np.array(cov2['IR'][sorted_avIR])\n",
        "\n",
        "for i in range(num_clusters):\n",
        " \n",
        "  legend_elements.append(Line2D([0], [0], marker='o', color=cmaps(i), label='Cluster '+str(i) + ' (Average Daily Increase of Cases = '+str('{:.2f}'.format(measure[i]))+')', markerfacecolor=cmaps(i) , markersize=10))\n",
        "\n",
        "\n",
        "# Create the figure\n",
        "# Visualize it:\n",
        "plt.figure(figsize=(8, 6))\n",
        "#sns.swarmplot(census_data_embedded_2[:,0], census_data_embedded_2[:,1], c=kmeans_2.labels_.astype(float))\n",
        "plt.scatter(census_data_embedded_2[:,0], census_data_embedded_2[:,1], c=cluster_ids_.astype(float), cmap = cmaps)\n",
        "plt.grid()\n",
        "plt.legend(handles=legend_elements, bbox_to_anchor=[1.05, 1.01])\n",
        "plt.xlabel('Feature 1 - t-SNE embedding')\n",
        "plt.ylabel('Feature 2 - t-SNE embedding')\n",
        "plt.title('Average Daily Increase of Cases per clusster. k-means (k=8) clusters corresponding to 174 unique NYC zip codes based on census features')\n",
        "plt.show()\n",
        "\n",
        "\n"
      ],
      "execution_count": 0,
      "outputs": [
        {
          "output_type": "display_data",
          "data": {
            "image/png": "[encoded data removed]",
            "text/plain": [
              "<Figure size 576x432 with 1 Axes>"
            ]
          },
          "metadata": {
            "tags": [],
            "needs_background": "light"
          }
        }
      ]
    },
    {
      "cell_type": "code",
      "metadata": {
        "id": "LQA3fFCuKPQp",
        "colab_type": "code",
        "colab": {}
      },
      "source": [
        "##\n",
        "Zip_clusterIDs_IR = pd.DataFrame()\n",
        "Zip_clusterIDs_IR = pd.DataFrame(covid_data[['IR']])\n",
        "Zip_clusterIDs_IR['geo_id'] = zips\n",
        "Zip_clusterIDs_IR['ClusterID'] = cluster_ids_\n",
        "Zip_clusterIDs_IR.to_csv('final_ZIP_avIR_clusterIDs.csv',index=False)\n",
        "!cp final_ZIP_avIR_clusterIDs.csv \"drive/My Drive/DATATHON/Results/Clusters\""
      ],
      "execution_count": 0,
      "outputs": []
    },
    {
      "cell_type": "markdown",
      "metadata": {
        "id": "pevkjmhWT0mC",
        "colab_type": "text"
      },
      "source": [
        "## **Underlying factors embedding:**Aggregate features by categories"
      ]
    },
    {
      "cell_type": "code",
      "metadata": {
        "id": "4RUYxN6rwaDt",
        "colab_type": "code",
        "colab": {}
      },
      "source": [
        "## DEfine feature withing categories indices: (manually done from the saved excel sheet of the selected features)\n",
        "Familial = reduced_data.iloc[:,np.array([2,4,5,6,8,15,30,45,52,54,70,74])-2]\n",
        "Age_Gender = reduced_data.iloc[:,np.array([3,7,9,16,17,20,24,26,27,37,38,42,47,48,50,51,53,55,56,57,62,63,65,66,68,69,73,40,33,34,44,87])-2]\n",
        "Education_level = reduced_data.iloc[:,np.array([10,12,13,18,19,21,22,25,29,61,95,96,34,89])-2]\n",
        "occupation = reduced_data.iloc[:,np.array([11,14,28,31,41,67,71,72,104,108,109,110,49])-2]\n",
        "Mobility = reduced_data.iloc[:,np.array([114,112,111,103,91,90,85,79,78,77,76,75,64,32,23,99])-2]\n",
        "Income = reduced_data.iloc[:,np.array([36,39,43,46,58,59,60,80,81,88,97,105])-2]\n",
        "Race = reduced_data.iloc[:,np.array([82,83,84,86,102])-2]"
      ],
      "execution_count": 0,
      "outputs": []
    },
    {
      "cell_type": "code",
      "metadata": {
        "id": "-XrxMgDw9Vo_",
        "colab_type": "code",
        "colab": {}
      },
      "source": [
        "factors = [Familial,Age_Gender,Education_level,occupation,Mobility,Income,Race]\n",
        "factors_IDs = ['Familial','Age_Gender','Education_level','occupation','Mobility','Income','Race']"
      ],
      "execution_count": 0,
      "outputs": []
    },
    {
      "cell_type": "code",
      "metadata": {
        "id": "Z4INVVIk6rW_",
        "colab_type": "code",
        "outputId": "c7f3f1e1-6694-42a6-8589-cdadc194b411",
        "colab": {
          "base_uri": "https://localhost:8080/",
          "height": 35
        }
      },
      "source": [
        "##embed features\n",
        "def embed_features(factors,factors_IDs,covid_data,cluster_ids_,zips):\n",
        "  \n",
        "  embd_X =  dict()\n",
        "  for j in range(len(factors)):\n",
        "\n",
        "    cat1 = TSNE(n_components=1).fit_transform(factors[j])\n",
        "    scaler = MinMaxScaler() \n",
        "    scaled_values = scaler.fit_transform(cat1) \n",
        "    embd_X[factors_IDs[j]] = list(scaled_values)\n",
        "    print(j)\n",
        "    Zip_clusterIDs_IR = pd.DataFrame()\n",
        "    Zip_clusterIDs_IR = pd.DataFrame(scaled_values)\n",
        "    Zip_clusterIDs_IR['geo_id'] = zips\n",
        "    Zip_clusterIDs_IR['ClusterID'] = cluster_ids_\n",
        "    Zip_clusterIDs_IR.to_csv(factors_IDs[j]+'.csv',index=False)\n",
        "\n",
        "    #!cp vars()[factors_IDs[j]+'.csv'] \"drive/My Drive/DATATHON/Results/Clusters\"\n",
        "\n",
        "    return embd_X\n",
        "\n",
        "embd_X = embed_features(factors,factors_IDs,covid_data,cluster_ids_,zips)\n"
      ],
      "execution_count": 0,
      "outputs": [
        {
          "output_type": "stream",
          "text": [
            "0\n"
          ],
          "name": "stdout"
        }
      ]
    },
    {
      "cell_type": "code",
      "metadata": {
        "id": "BY93Tg-gMWnJ",
        "colab_type": "code",
        "outputId": "bc3ed626-7078-4206-ca66-c86861a654cb",
        "colab": {
          "base_uri": "https://localhost:8080/",
          "height": 141
        }
      },
      "source": [
        "embd_X =  dict()\n",
        "for j in range(len(factors)):\n",
        "\n",
        "  cat1 = TSNE(n_components=1).fit_transform(factors[j])\n",
        "  scaler = MinMaxScaler() \n",
        "  scaled_values = scaler.fit_transform(cat1) \n",
        "  embd_X[factors_IDs[j]] = scaled_values\n",
        "  print(j)\n",
        "  Zip_clusterIDs_IR = pd.DataFrame()\n",
        "  Zip_clusterIDs_IR = pd.DataFrame(scaled_values)\n",
        "  Zip_clusterIDs_IR['geo_id'] = zips\n",
        "  Zip_clusterIDs_IR['ClusterID'] = cluster_ids_\n",
        "  Zip_clusterIDs_IR.to_csv(factors_IDs[j]+'.csv',index=False)"
      ],
      "execution_count": 0,
      "outputs": [
        {
          "output_type": "stream",
          "text": [
            "0\n",
            "1\n",
            "2\n",
            "3\n",
            "4\n",
            "5\n",
            "6\n"
          ],
          "name": "stdout"
        }
      ]
    },
    {
      "cell_type": "code",
      "metadata": {
        "id": "j40xQS8ZMobN",
        "colab_type": "code",
        "outputId": "516c89b7-abea-46f2-c903-98b770aa57dc",
        "colab": {
          "base_uri": "https://localhost:8080/",
          "height": 141
        }
      },
      "source": [
        "#\"drive/My Drive/DATATHON/Results/Clusters\"\n",
        "factors_IDs"
      ],
      "execution_count": 0,
      "outputs": [
        {
          "output_type": "execute_result",
          "data": {
            "text/plain": [
              "['Familial',\n",
              " 'Age_Gender',\n",
              " 'Education_level',\n",
              " 'occupation',\n",
              " 'Mobility',\n",
              " 'Income',\n",
              " 'Race']"
            ]
          },
          "metadata": {
            "tags": []
          },
          "execution_count": 364
        }
      ]
    },
    {
      "cell_type": "code",
      "metadata": {
        "id": "ONoznjCYMxR8",
        "colab_type": "code",
        "colab": {}
      },
      "source": [
        "## Save 1D embedded factors for geo plots\n",
        "!cp Familial.csv \"drive/My Drive/DATATHON/Results/Clusters\"\n",
        "!cp Age_Gender.csv \"drive/My Drive/DATATHON/Results/Clusters\"\n",
        "!cp Education_level.csv \"drive/My Drive/DATATHON/Results/Clusters\"\n",
        "!cp occupation.csv \"drive/My Drive/DATATHON/Results/Clusters\"\n",
        "!cp Mobility.csv \"drive/My Drive/DATATHON/Results/Clusters\"\n",
        "!cp Income.csv \"drive/My Drive/DATATHON/Results/Clusters\"\n",
        "!cp Race.csv \"drive/My Drive/DATATHON/Results/Clusters\""
      ],
      "execution_count": 0,
      "outputs": []
    },
    {
      "cell_type": "markdown",
      "metadata": {
        "id": "0fi7deKnwl44",
        "colab_type": "text"
      },
      "source": [
        "# **Boxplot of the embedded factors grouped by clusters**"
      ]
    },
    {
      "cell_type": "code",
      "metadata": {
        "id": "6l_2HMha_FGd",
        "colab_type": "code",
        "colab": {}
      },
      "source": [
        "filename = '/content/drive/My Drive/DATATHON/Results/Clusters/embedded_features.csv'\n",
        "embedded_Cats = pd.read_csv(filename, index_col=None, header=0)\n",
        "embedded_Cats.head()\n",
        "ref = embedded_Cats['ClusterID']"
      ],
      "execution_count": 0,
      "outputs": []
    },
    {
      "cell_type": "code",
      "metadata": {
        "id": "E10EDlnVSy8R",
        "colab_type": "code",
        "outputId": "dccd1e25-72cd-4c96-bb79-2f164acabcaf",
        "colab": {
          "base_uri": "https://localhost:8080/",
          "height": 399
        }
      },
      "source": [
        "embedded_Cats.drop(columns=['ClusterID'])"
      ],
      "execution_count": 0,
      "outputs": [
        {
          "output_type": "execute_result",
          "data": {
            "text/html": [
              "<div>\n",
              "<style scoped>\n",
              "    .dataframe tbody tr th:only-of-type {\n",
              "        vertical-align: middle;\n",
              "    }\n",
              "\n",
              "    .dataframe tbody tr th {\n",
              "        vertical-align: top;\n",
              "    }\n",
              "\n",
              "    .dataframe thead th {\n",
              "        text-align: right;\n",
              "    }\n",
              "</style>\n",
              "<table border=\"1\" class=\"dataframe\">\n",
              "  <thead>\n",
              "    <tr style=\"text-align: right;\">\n",
              "      <th></th>\n",
              "      <th>Familial</th>\n",
              "      <th>Age_Gender</th>\n",
              "      <th>Education_level</th>\n",
              "      <th>occupation</th>\n",
              "      <th>Mobility</th>\n",
              "      <th>Income</th>\n",
              "      <th>Race</th>\n",
              "    </tr>\n",
              "  </thead>\n",
              "  <tbody>\n",
              "    <tr>\n",
              "      <th>0</th>\n",
              "      <td>0.084536</td>\n",
              "      <td>0.065665</td>\n",
              "      <td>0.876152</td>\n",
              "      <td>0.862447</td>\n",
              "      <td>0.000001</td>\n",
              "      <td>0.000000</td>\n",
              "      <td>0.116901</td>\n",
              "    </tr>\n",
              "    <tr>\n",
              "      <th>1</th>\n",
              "      <td>0.181849</td>\n",
              "      <td>0.179008</td>\n",
              "      <td>0.804295</td>\n",
              "      <td>0.718391</td>\n",
              "      <td>0.144257</td>\n",
              "      <td>0.112878</td>\n",
              "      <td>0.228025</td>\n",
              "    </tr>\n",
              "    <tr>\n",
              "      <th>2</th>\n",
              "      <td>0.805610</td>\n",
              "      <td>0.697310</td>\n",
              "      <td>0.232879</td>\n",
              "      <td>0.243008</td>\n",
              "      <td>0.824774</td>\n",
              "      <td>0.777811</td>\n",
              "      <td>0.419871</td>\n",
              "    </tr>\n",
              "    <tr>\n",
              "      <th>3</th>\n",
              "      <td>0.316300</td>\n",
              "      <td>0.265273</td>\n",
              "      <td>0.754214</td>\n",
              "      <td>0.725829</td>\n",
              "      <td>0.214609</td>\n",
              "      <td>0.201798</td>\n",
              "      <td>0.601757</td>\n",
              "    </tr>\n",
              "    <tr>\n",
              "      <th>4</th>\n",
              "      <td>0.185985</td>\n",
              "      <td>0.149419</td>\n",
              "      <td>0.786290</td>\n",
              "      <td>0.781787</td>\n",
              "      <td>0.139859</td>\n",
              "      <td>0.112610</td>\n",
              "      <td>0.584196</td>\n",
              "    </tr>\n",
              "    <tr>\n",
              "      <th>...</th>\n",
              "      <td>...</td>\n",
              "      <td>...</td>\n",
              "      <td>...</td>\n",
              "      <td>...</td>\n",
              "      <td>...</td>\n",
              "      <td>...</td>\n",
              "      <td>...</td>\n",
              "    </tr>\n",
              "    <tr>\n",
              "      <th>169</th>\n",
              "      <td>0.566066</td>\n",
              "      <td>0.633050</td>\n",
              "      <td>0.348378</td>\n",
              "      <td>0.905404</td>\n",
              "      <td>0.772290</td>\n",
              "      <td>0.691876</td>\n",
              "      <td>0.418860</td>\n",
              "    </tr>\n",
              "    <tr>\n",
              "      <th>170</th>\n",
              "      <td>0.841337</td>\n",
              "      <td>0.838072</td>\n",
              "      <td>0.180321</td>\n",
              "      <td>0.166593</td>\n",
              "      <td>0.940248</td>\n",
              "      <td>0.911484</td>\n",
              "      <td>0.907581</td>\n",
              "    </tr>\n",
              "    <tr>\n",
              "      <th>171</th>\n",
              "      <td>0.880936</td>\n",
              "      <td>0.873148</td>\n",
              "      <td>0.111613</td>\n",
              "      <td>0.106875</td>\n",
              "      <td>0.943761</td>\n",
              "      <td>0.951407</td>\n",
              "      <td>0.308235</td>\n",
              "    </tr>\n",
              "    <tr>\n",
              "      <th>172</th>\n",
              "      <td>0.731832</td>\n",
              "      <td>0.726221</td>\n",
              "      <td>0.339847</td>\n",
              "      <td>0.239235</td>\n",
              "      <td>0.891427</td>\n",
              "      <td>0.787861</td>\n",
              "      <td>0.784706</td>\n",
              "    </tr>\n",
              "    <tr>\n",
              "      <th>173</th>\n",
              "      <td>0.083655</td>\n",
              "      <td>0.063658</td>\n",
              "      <td>0.878058</td>\n",
              "      <td>0.000000</td>\n",
              "      <td>0.000000</td>\n",
              "      <td>0.004974</td>\n",
              "      <td>0.110498</td>\n",
              "    </tr>\n",
              "  </tbody>\n",
              "</table>\n",
              "<p>174 rows × 7 columns</p>\n",
              "</div>"
            ],
            "text/plain": [
              "     Familial  Age_Gender  Education_level  ...  Mobility    Income      Race\n",
              "0    0.084536    0.065665         0.876152  ...  0.000001  0.000000  0.116901\n",
              "1    0.181849    0.179008         0.804295  ...  0.144257  0.112878  0.228025\n",
              "2    0.805610    0.697310         0.232879  ...  0.824774  0.777811  0.419871\n",
              "3    0.316300    0.265273         0.754214  ...  0.214609  0.201798  0.601757\n",
              "4    0.185985    0.149419         0.786290  ...  0.139859  0.112610  0.584196\n",
              "..        ...         ...              ...  ...       ...       ...       ...\n",
              "169  0.566066    0.633050         0.348378  ...  0.772290  0.691876  0.418860\n",
              "170  0.841337    0.838072         0.180321  ...  0.940248  0.911484  0.907581\n",
              "171  0.880936    0.873148         0.111613  ...  0.943761  0.951407  0.308235\n",
              "172  0.731832    0.726221         0.339847  ...  0.891427  0.787861  0.784706\n",
              "173  0.083655    0.063658         0.878058  ...  0.000000  0.004974  0.110498\n",
              "\n",
              "[174 rows x 7 columns]"
            ]
          },
          "metadata": {
            "tags": []
          },
          "execution_count": 18
        }
      ]
    },
    {
      "cell_type": "code",
      "metadata": {
        "id": "D2IgtKgJLjL8",
        "colab_type": "code",
        "outputId": "e238aaa5-258e-455d-f2a2-93a26d85fc44",
        "colab": {
          "base_uri": "https://localhost:8080/",
          "height": 788
        }
      },
      "source": [
        "#plt.figure(figsize=(15,10))\n",
        "bp = embedded_Cats.boxplot(by='ClusterID',figsize=(15,10),return_type='dict', fontsize=15)\n",
        "#[ax_tmp.set_xlabel('') for ax_tmp in np.asarray(bp).reshape(-1)]\n",
        "#fig = np.asarray(bp).reshape(-1)[0].get_figure()\n",
        "[[item.set_color('r') for item in bp[key]['medians']] for key in bp.keys()]"
      ],
      "execution_count": 0,
      "outputs": [
        {
          "output_type": "execute_result",
          "data": {
            "text/plain": [
              "[[None, None, None, None, None, None, None, None],\n",
              " [None, None, None, None, None, None, None, None],\n",
              " [None, None, None, None, None, None, None, None],\n",
              " [None, None, None, None, None, None, None, None],\n",
              " [None, None, None, None, None, None, None, None],\n",
              " [None, None, None, None, None, None, None, None],\n",
              " [None, None, None, None, None, None, None, None]]"
            ]
          },
          "metadata": {
            "tags": []
          },
          "execution_count": 19
        },
        {
          "output_type": "display_data",
          "data": {
            "image/png": "[encoded data removed]",
            "text/plain": [
              "<Figure size 1080x720 with 9 Axes>"
            ]
          },
          "metadata": {
            "tags": [],
            "needs_background": "light"
          }
        }
      ]
    },
    {
      "cell_type": "code",
      "metadata": {
        "id": "IkwHdg0NZ0_O",
        "colab_type": "code",
        "outputId": "963d48a7-fb27-4da7-96eb-989c39e8887e",
        "colab": {
          "base_uri": "https://localhost:8080/",
          "height": 384
        }
      },
      "source": [
        "\n",
        "filename = '/content/drive/My Drive/DATATHON/Results/Clusters/CovidIR_Clusters.csv'\n",
        "embedded_Cats = pd.read_csv(filename, index_col=None, header=0)\n",
        "#embedded_Cats = embedded_features.csv\n",
        "#embedded_Cats.reset_index()\n",
        "#embedded_Cats['Education_level']\n",
        "embedded_Cats.head()\n",
        "ref = embedded_Cats['ClusterID']\n",
        "\n",
        "\n",
        "#plt.figure(figsize=(3,4))\n",
        "bp = embedded_Cats.boxplot(by='ClusterID',figsize=(6,5),return_type='dict', fontsize=15)\n",
        "#[ax_tmp.set_xlabel('') for ax_tmp in np.asarray(bp).reshape(-1)]\n",
        "#fig = np.asarray(bp).reshape(-1)[0].get_figure()\n",
        "[[item.set_color('r') for item in bp[key]['medians']] for key in bp.keys()]"
      ],
      "execution_count": 0,
      "outputs": [
        {
          "output_type": "execute_result",
          "data": {
            "text/plain": [
              "[[None, None, None, None, None, None, None, None]]"
            ]
          },
          "metadata": {
            "tags": []
          },
          "execution_count": 31
        },
        {
          "output_type": "display_data",
          "data": {
            "image/png": "[encoded data removed]",
            "text/plain": [
              "<Figure size 432x360 with 1 Axes>"
            ]
          },
          "metadata": {
            "tags": [],
            "needs_background": "light"
          }
        }
      ]
    },
    {
      "cell_type": "code",
      "metadata": {
        "id": "CwOfw8fjJR8e",
        "colab_type": "code",
        "outputId": "ccc42649-833a-4115-feab-f3383b3271c0",
        "colab": {
          "base_uri": "https://localhost:8080/",
          "height": 35
        }
      },
      "source": [
        "embd_X.shape"
      ],
      "execution_count": 0,
      "outputs": [
        {
          "output_type": "execute_result",
          "data": {
            "text/plain": [
              "(1, 174, 1)"
            ]
          },
          "metadata": {
            "tags": []
          },
          "execution_count": 255
        }
      ]
    },
    {
      "cell_type": "markdown",
      "metadata": {
        "id": "ovoEESO272EV",
        "colab_type": "text"
      },
      "source": [
        "# Elbow to find clusters"
      ]
    },
    {
      "cell_type": "markdown",
      "metadata": {
        "id": "cRPg8zqLxxeS",
        "colab_type": "text"
      },
      "source": [
        ""
      ]
    },
    {
      "cell_type": "code",
      "metadata": {
        "id": "PTl4D8B5vp61",
        "colab_type": "code",
        "outputId": "95b1ab32-4e00-4c37-f5b6-6521b03a8a4a",
        "colab": {
          "base_uri": "https://localhost:8080/",
          "height": 295
        }
      },
      "source": [
        "distortions = []\n",
        "K = range(1,10)\n",
        "for k in K:\n",
        "    kmeanModel = KMeans(n_clusters=k).fit(reduced_data)\n",
        "    kmeanModel.fit(reduced_data)\n",
        "    distortions.append(sum(np.min(cdist(reduced_data, kmeanModel.cluster_centers_, 'euclidean'), axis=1)) / reduced_data.shape[0])\n",
        "\n",
        "plt.plot(K, distortions, 'bx-')\n",
        "plt.xlabel('k')\n",
        "plt.ylabel('Distortion')\n",
        "plt.title('The Elbow Method showing the optimal k')\n",
        "plt.show()"
      ],
      "execution_count": 0,
      "outputs": [
        {
          "output_type": "display_data",
          "data": {
            "image/png": "[encoded data removed]",
            "text/plain": [
              "<Figure size 432x288 with 1 Axes>"
            ]
          },
          "metadata": {
            "tags": [],
            "needs_background": "light"
          }
        }
      ]
    },
    {
      "cell_type": "code",
      "metadata": {
        "id": "Z9ygUO7iJXlL",
        "colab_type": "code",
        "colab": {}
      },
      "source": [
        ""
      ],
      "execution_count": 0,
      "outputs": []
    }
  ]
}