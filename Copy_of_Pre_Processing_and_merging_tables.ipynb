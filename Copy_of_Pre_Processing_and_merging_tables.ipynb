{
  "nbformat": 4,
  "nbformat_minor": 0,
  "metadata": {
    "colab": {
      "name": "Copy of Pre-Processing and merging tables.ipynb",
      "provenance": [],
      "collapsed_sections": []
    },
    "kernelspec": {
      "name": "python3",
      "display_name": "Python 3"
    }
  },
  "cells": [
    {
      "cell_type": "markdown",
      "metadata": {
        "id": "DVCFY9RRwOKp",
        "colab_type": "text"
      },
      "source": [
        "# Loading Packages and Libraries"
      ]
    },
    {
      "cell_type": "code",
      "metadata": {
        "id": "GX1_xYeMsw06",
        "colab_type": "code",
        "outputId": "1d3ab5c9-7595-4e47-b3d5-8f47e531d2dc",
        "colab": {
          "base_uri": "https://localhost:8080/",
          "height": 34
        }
      },
      "source": [
        "from sklearn.cluster import KMeans\n",
        "import numpy as np\n",
        "import pandas as pd\n",
        "from scipy import stats\n",
        "from sklearn import metrics\n",
        "import seaborn as sns\n",
        "\n",
        "from scipy.spatial.distance import cdist\n",
        "from sklearn.manifold import TSNE\n",
        "import matplotlib.pyplot as plt\n",
        "\n",
        "from google.colab import auth\n",
        "from google.cloud import bigquery\n",
        "import os\n",
        "auth.authenticate_user()\n",
        "print('Authenticated')"
      ],
      "execution_count": 34,
      "outputs": [
        {
          "output_type": "stream",
          "text": [
            "Authenticated\n"
          ],
          "name": "stdout"
        }
      ]
    },
    {
      "cell_type": "markdown",
      "metadata": {
        "id": "CBeAxr2LwVEc",
        "colab_type": "text"
      },
      "source": [
        "# Connect to project in big query"
      ]
    },
    {
      "cell_type": "code",
      "metadata": {
        "id": "_2ijuz__s5N1",
        "colab_type": "code",
        "colab": {
          "base_uri": "https://localhost:8080/",
          "height": 50
        },
        "outputId": "860af049-35ac-42c5-c4c2-e2a4dc8f01d6"
      },
      "source": [
        "#large datasets\n",
        "%load_ext google.colab.data_table\n",
        "#traditional \n",
        "#%unload_ext google.colab.data_table\n",
        "project_id = 'mit-covid-19-datathon'\n",
        "os.environ['GOOGLE_CLOUD_PROJECT'] = project_id"
      ],
      "execution_count": 35,
      "outputs": [
        {
          "output_type": "stream",
          "text": [
            "The google.colab.data_table extension is already loaded. To reload it, use:\n",
            "  %reload_ext google.colab.data_table\n"
          ],
          "name": "stdout"
        }
      ]
    },
    {
      "cell_type": "markdown",
      "metadata": {
        "id": "ElfisGlwwcr6",
        "colab_type": "text"
      },
      "source": [
        "# Mount Drive"
      ]
    },
    {
      "cell_type": "code",
      "metadata": {
        "id": "RpDLfu2-tlV6",
        "colab_type": "code",
        "outputId": "061f303e-866c-4ec4-f5d3-4887c71c82d2",
        "colab": {
          "base_uri": "https://localhost:8080/",
          "height": 34
        }
      },
      "source": [
        "import glob\n",
        "\n",
        "# Importing drive method from colab for accessing google drive\n",
        "from google.colab import drive\n",
        "# Mounting drive\n",
        "# This will require authentication : Follow the steps as guided\n",
        "drive.mount('/content/drive')"
      ],
      "execution_count": 36,
      "outputs": [
        {
          "output_type": "stream",
          "text": [
            "Drive already mounted at /content/drive; to attempt to forcibly remount, call drive.mount(\"/content/drive\", force_remount=True).\n"
          ],
          "name": "stdout"
        }
      ]
    },
    {
      "cell_type": "markdown",
      "metadata": {
        "id": "uX9GfIF6wkIQ",
        "colab_type": "text"
      },
      "source": [
        "# Big Query (Retrieving census data)"
      ]
    },
    {
      "cell_type": "code",
      "metadata": {
        "id": "JVCXb1ccs9U_",
        "colab_type": "code",
        "outputId": "887238e6-184d-4987-f94e-99d9b1268b85",
        "colab": {
          "base_uri": "https://localhost:8080/",
          "height": 34
        }
      },
      "source": [
        "client = bigquery.Client(project=project_id)\n",
        "\n",
        "df_2 = client.query('''\n",
        "  SELECT * FROM `bigquery-public-data.census_bureau_acs.zip_codes_2018_5yr`\n",
        "where geo_id IN ('10453', '10457', '10460', '10458', '10467', '10468', '10451', '10452', '10456', '10454', '10455', '10459', '10474', \n",
        "'10463', '10471', '10466', '10469', '10470', '10475', '10461', '10462', '10464', '10465', '10472', '10473', '11212', '11213', '11216', '11233', '11238', '11209', '11214', '11228', '11204', '11218', '11219', '11230', '11234', '11236', '11239', '11223', '11224', '11229', '11235', '11201', '11205', '11215', '11217', '11231', '11203', '11210', '11225', '11226', \t'11207', '11208', '11211', '11222', '11220', '11232', '11206', '11221', '11237', '10026', '10027', '10030', '10037', '10039', '10001', '10011', '10018', '10019', '10020', '10036', '10029', '10035', '10010', '10016', '10017', '10022', '10012', '10013', '10014', \t'10004', '10005', '10006', '10007', '10038', '10280', \n",
        "'10002', '10003', '10009', '10021', '10028', '10044', '10065', '10075', '10128', '10023', '10024', '10025', \t'10031', '10032', '10033', '10034', '10040', '11361', '11362', '11363', '11364', '11354', '11355', '11356', '11357', '11358', '11359', '11360', \t'11365', '11366', '11367', \t'11412', '11423', '11432', '11433', '11434', '11435', '11436', \t'11101', '11102', '11103', '11104', '11105', '11106', \n",
        "'11374', '11375', '11379', '11385', \t'11691', '11692', '11693', '11694', '11695', '11697', \t'11004', '11005', '11411', '11413', '11422', '11426', '11427', '11428', '11429', \t'11414', '11415', '11416', '11417', '11418', '11419', '11420', '11421', \t'11368', '11369', '11370', '11372', '11373', '11377', '11378', \t'10302', '10303', '10310',\t'10306', '10307', '10308', '10309', '10312', '10301', '10304', '10305', '10314')\n",
        "''' ).to_dataframe()\n",
        "\n",
        "print('Full dataset has been loaded :-)')"
      ],
      "execution_count": 37,
      "outputs": [
        {
          "output_type": "stream",
          "text": [
            "Full dataset has been loaded :-)\n"
          ],
          "name": "stdout"
        }
      ]
    },
    {
      "cell_type": "markdown",
      "metadata": {
        "id": "U-PadZw-wvA2",
        "colab_type": "text"
      },
      "source": [
        "# Dropping a few columns for now"
      ]
    },
    {
      "cell_type": "code",
      "metadata": {
        "id": "L1yg9aAjtSDP",
        "colab_type": "code",
        "colab": {}
      },
      "source": [
        "df_2.drop(['do_date', 'speak_spanish_at_home', 'speak_only_english_at_home', 'speak_spanish_at_home_low_english'], axis=1, inplace=True)"
      ],
      "execution_count": 0,
      "outputs": []
    },
    {
      "cell_type": "code",
      "metadata": {
        "id": "QnChX9g_9vNI",
        "colab_type": "code",
        "colab": {}
      },
      "source": [
        "pop_dens = pd.read_csv('/content/drive/My Drive/data/pop_density.csv')"
      ],
      "execution_count": 0,
      "outputs": []
    },
    {
      "cell_type": "code",
      "metadata": {
        "id": "R1ux3Kmq-X6A",
        "colab_type": "code",
        "colab": {
          "base_uri": "https://localhost:8080/",
          "height": 34
        },
        "outputId": "d3dda22d-928e-4afa-c4e2-b7f28b1eddae"
      },
      "source": [
        "pop_dens.isnull().values.any()"
      ],
      "execution_count": 44,
      "outputs": [
        {
          "output_type": "execute_result",
          "data": {
            "text/plain": [
              "False"
            ]
          },
          "metadata": {
            "tags": []
          },
          "execution_count": 44
        }
      ]
    },
    {
      "cell_type": "code",
      "metadata": {
        "id": "wsNPtE-pHNlp",
        "colab_type": "code",
        "colab": {
          "base_uri": "https://localhost:8080/",
          "height": 185
        },
        "outputId": "6760c234-abaa-4cfb-83fd-c1b890164d58"
      },
      "source": [
        "pop_dens.info()"
      ],
      "execution_count": 65,
      "outputs": [
        {
          "output_type": "stream",
          "text": [
            "<class 'pandas.core.frame.DataFrame'>\n",
            "RangeIndex: 1771 entries, 0 to 1770\n",
            "Data columns (total 3 columns):\n",
            " #   Column           Non-Null Count  Dtype  \n",
            "---  ------           --------------  -----  \n",
            " 0   Pop_Density      1771 non-null   float64\n",
            " 1   geo_id           1771 non-null   object \n",
            " 2        Population  1771 non-null   int64  \n",
            "dtypes: float64(1), int64(1), object(1)\n",
            "memory usage: 41.6+ KB\n"
          ],
          "name": "stdout"
        }
      ]
    },
    {
      "cell_type": "code",
      "metadata": {
        "id": "Vi0vkMB9-KeP",
        "colab_type": "code",
        "colab": {}
      },
      "source": [
        "pop_dens['geo_id'] = pop_dens['geo_id'].astype(int)\n",
        "pop_dens['geo_id'] = pop_dens['geo_id'].astype(str)\n"
      ],
      "execution_count": 0,
      "outputs": []
    },
    {
      "cell_type": "code",
      "metadata": {
        "id": "XKCxJmYbA-ZL",
        "colab_type": "code",
        "colab": {}
      },
      "source": [
        "df = pd.merge(df_2, pop_dens, on = 'geo_id', how = 'inner')"
      ],
      "execution_count": 0,
      "outputs": []
    },
    {
      "cell_type": "code",
      "metadata": {
        "id": "Zmlr6r0RB4Ie",
        "colab_type": "code",
        "colab": {}
      },
      "source": [
        "df_2 = df"
      ],
      "execution_count": 0,
      "outputs": []
    },
    {
      "cell_type": "code",
      "metadata": {
        "id": "kppEu3EqJc9Z",
        "colab_type": "code",
        "colab": {}
      },
      "source": [
        "df_2.columns = df_2.columns.str.replace(' ', '')\n"
      ],
      "execution_count": 0,
      "outputs": []
    },
    {
      "cell_type": "code",
      "metadata": {
        "id": "jq5wdyXVI3La",
        "colab_type": "code",
        "colab": {
          "base_uri": "https://localhost:8080/",
          "height": 168
        },
        "outputId": "4651a207-8186-4e54-e1e6-a47b4e9a147f"
      },
      "source": [
        "df_2.columns"
      ],
      "execution_count": 82,
      "outputs": [
        {
          "output_type": "execute_result",
          "data": {
            "text/plain": [
              "Index(['geo_id', 'total_pop', 'households', 'male_pop', 'female_pop',\n",
              "       'median_age', 'male_under_5', 'male_5_to_9', 'male_10_to_14',\n",
              "       'male_15_to_17',\n",
              "       ...\n",
              "       'management_business_sci_arts_employed', 'sales_office_employed',\n",
              "       'in_grades_1_to_4', 'in_grades_5_to_8', 'in_grades_9_to_12',\n",
              "       'in_school', 'in_undergrad_college', 'Pop_Density', 'Population',\n",
              "       'land_area'],\n",
              "      dtype='object', length=239)"
            ]
          },
          "metadata": {
            "tags": []
          },
          "execution_count": 82
        }
      ]
    },
    {
      "cell_type": "code",
      "metadata": {
        "id": "X95_4GdPI3Oh",
        "colab_type": "code",
        "colab": {}
      },
      "source": [
        ""
      ],
      "execution_count": 0,
      "outputs": []
    },
    {
      "cell_type": "code",
      "metadata": {
        "id": "_n-XtzrFBxN3",
        "colab_type": "code",
        "colab": {
          "base_uri": "https://localhost:8080/",
          "height": 34
        },
        "outputId": "ed6fc1c0-8e83-4d32-b1aa-74f1ce019c0a"
      },
      "source": [
        "df_2.shape"
      ],
      "execution_count": 61,
      "outputs": [
        {
          "output_type": "execute_result",
          "data": {
            "text/plain": [
              "(176, 239)"
            ]
          },
          "metadata": {
            "tags": []
          },
          "execution_count": 61
        }
      ]
    },
    {
      "cell_type": "code",
      "metadata": {
        "id": "UWHko_vEGblI",
        "colab_type": "code",
        "colab": {}
      },
      "source": [
        "df_2[\"land_area\"] = \"\"\n"
      ],
      "execution_count": 0,
      "outputs": []
    },
    {
      "cell_type": "code",
      "metadata": {
        "id": "fAnY1aQjG6kb",
        "colab_type": "code",
        "colab": {}
      },
      "source": [
        "df_2['land_area'] = df_2['Population']/df_2['Pop_Density']\n"
      ],
      "execution_count": 0,
      "outputs": []
    },
    {
      "cell_type": "code",
      "metadata": {
        "id": "ZEl4ALLTKAkd",
        "colab_type": "code",
        "colab": {}
      },
      "source": [
        "df_2[\"new_pop_density\"] = \"\"\n"
      ],
      "execution_count": 0,
      "outputs": []
    },
    {
      "cell_type": "code",
      "metadata": {
        "id": "LBI736BnKGDc",
        "colab_type": "code",
        "colab": {}
      },
      "source": [
        "df_2['new_pop_density'] = df_2['total_pop']/df_2['land_area']\n"
      ],
      "execution_count": 0,
      "outputs": []
    },
    {
      "cell_type": "markdown",
      "metadata": {
        "id": "IrFIlGTNCqYf",
        "colab_type": "text"
      },
      "source": [
        "# Imputation"
      ]
    },
    {
      "cell_type": "code",
      "metadata": {
        "id": "aMYHIWA302r1",
        "colab_type": "code",
        "colab": {
          "base_uri": "https://localhost:8080/",
          "height": 34
        },
        "outputId": "effdef8a-55ec-48f9-c1c1-75e3f7bb3b21"
      },
      "source": [
        "df_2 = df_2.fillna(0)\n",
        "df_2.isnull().values.any()"
      ],
      "execution_count": 55,
      "outputs": [
        {
          "output_type": "execute_result",
          "data": {
            "text/plain": [
              "False"
            ]
          },
          "metadata": {
            "tags": []
          },
          "execution_count": 55
        }
      ]
    },
    {
      "cell_type": "code",
      "metadata": {
        "id": "7QMvsqPCxMtM",
        "colab_type": "code",
        "outputId": "bbb83569-ac96-4c4d-e06a-7ba49a798eb8",
        "colab": {
          "base_uri": "https://localhost:8080/",
          "height": 118
        }
      },
      "source": [
        "# Viewing the data in the folder present from the drive\n",
        "!ls \"/content/drive/My Drive/data/COVID_data/\""
      ],
      "execution_count": 56,
      "outputs": [
        {
          "output_type": "stream",
          "text": [
            "4_03.csv  4_10.csv  4_16.csv  4_22.csv\t4_28.csv  5_04.csv  5_10.csv  5_16.csv\n",
            "4_04.csv  4_11.csv  4_17.csv  4_23.csv\t4_29.csv  5_05.csv  5_11.csv  5_17.csv\n",
            "4_05.csv  4_12.csv  4_18.csv  4_24.csv\t4_30.csv  5_06.csv  5_12.csv  5_18.csv\n",
            "4_07.csv  4_13.csv  4_19.csv  4_25.csv\t5_01.csv  5_07.csv  5_13.csv  5_19.csv\n",
            "4_08.csv  4_14.csv  4_20.csv  4_26.csv\t5_02.csv  5_08.csv  5_14.csv\n",
            "4_09.csv  4_15.csv  4_21.csv  4_27.csv\t5_03.csv  5_09.csv  5_15.csv\n"
          ],
          "name": "stdout"
        }
      ]
    },
    {
      "cell_type": "markdown",
      "metadata": {
        "id": "3LACz-MeCzwz",
        "colab_type": "text"
      },
      "source": [
        "# find the csv files and Sort inputs in chronological Order"
      ]
    },
    {
      "cell_type": "code",
      "metadata": {
        "id": "Spv7FNNsxSjb",
        "colab_type": "code",
        "colab": {}
      },
      "source": [
        "data_files = glob.glob(\"/content/drive/My Drive/data/COVID_data/*.csv\")"
      ],
      "execution_count": 0,
      "outputs": []
    },
    {
      "cell_type": "code",
      "metadata": {
        "id": "BG-DecvOxW1A",
        "colab_type": "code",
        "colab": {}
      },
      "source": [
        "data_files = sorted(data_files)[::-1]"
      ],
      "execution_count": 0,
      "outputs": []
    },
    {
      "cell_type": "code",
      "metadata": {
        "id": "_mS2R-bKxbqS",
        "colab_type": "code",
        "colab": {}
      },
      "source": [
        "# Compute average daily cases increase\n",
        "daily_infection_rate = pd.DataFrame()\n",
        "df_csv = pd.read_csv(data_files[0], index_col=None, header=0)\n",
        "\n",
        "daily_infection_rate['MODZCTA'] = df_csv['MODZCTA']\n",
        "daily_infection_rate['Positive_ref'] = df_csv['Positive']\n",
        "daily_infection_rate['IR'] = np.nan\n",
        "# for filename in data_files[1:]:\n",
        "#     df_csv = pd.read_csv(filename, index_col=None, header=0)\n",
        "#     #df_csv.rename(columns={'MODZCTA':'geo_id'}, inplace=True)\n",
        "\n",
        "#     daily_infection_rate = pd.merge(daily_infection_rate, df_csv[['MODZCTA', 'Positive']], on = 'MODZCTA', how = 'inner')\n",
        "#     daily_infection_rate[filename.split('/')[-1]] = daily_infection_rate['Positive_ref'] - daily_infection_rate['Positive']\n",
        "#     daily_infection_rate['IR'] = daily_infection_rate[[filename.split('/')[-1],'IR']].mean(axis = 1)\n",
        "#     daily_infection_rate['Positive_ref'] = daily_infection_rate['Positive']\n",
        "    \n",
        "#     daily_infection_rate = daily_infection_rate.drop(columns=['Positive'])\n",
        "for filename in data_files[1:]:\n",
        "    df_csv = pd.read_csv(filename, index_col=None, header=0)\n",
        "    #df_csv.rename(columns={'MODZCTA':'geo_id'}, inplace=True)\n",
        "    daily_infection_rate = pd.merge(daily_infection_rate, df_csv[['MODZCTA', 'Positive']], on = 'MODZCTA', how = 'inner')\n",
        "    daily_infection_rate[filename.split('/')[-1]] = (daily_infection_rate['Positive_ref'] - daily_infection_rate['Positive'])*100/daily_infection_rate['Positive']\n",
        "    daily_infection_rate['IR'] = daily_infection_rate[[filename.split('/')[-1],'IR']].mean(axis = 1)\n",
        "    daily_infection_rate['Positive_ref'] = daily_infection_rate['Positive']\n",
        "    daily_infection_rate = daily_infection_rate.drop(columns=['Positive'])   "
      ],
      "execution_count": 0,
      "outputs": []
    },
    {
      "cell_type": "code",
      "metadata": {
        "id": "85Eu2a8K2l__",
        "colab_type": "code",
        "colab": {}
      },
      "source": [
        "daily_infection_rate.rename(columns={'MODZCTA':'geo_id'}, inplace=True)\n",
        "daily_infection_rate = daily_infection_rate.iloc[1:]\n",
        "daily_infection_rate['geo_id'] = daily_infection_rate['geo_id'].astype(int)\n",
        "#daily_infection_rate.info()\n",
        "daily_infection_rate['geo_id'] = daily_infection_rate['geo_id'].astype(str)"
      ],
      "execution_count": 0,
      "outputs": []
    },
    {
      "cell_type": "code",
      "metadata": {
        "id": "Oxx8h2THxreg",
        "colab_type": "code",
        "colab": {}
      },
      "source": [
        "IR_Daily_and_Avge = pd.DataFrame()\n",
        "IR_Daily_and_Avge['geo_id'] = daily_infection_rate['geo_id']\n",
        "IR_Daily_and_Avge['IR'] = daily_infection_rate['IR']\n",
        "IR_Daily_and_Avge[daily_infection_rate.columns[3:][::-1]] = pd.DataFrame(daily_infection_rate[daily_infection_rate.columns[3:][::-1]])\n",
        "IR_Daily_and_Avge.to_csv('IR_Daily_and_Avge.csv',index=False)\n",
        "#!cp IR_Daily_and_Avge.csv \"drive/My Drive/\"\n",
        "daily_infection_rate = pd.DataFrame(IR_Daily_and_Avge[['geo_id','IR']])\n",
        "#daily_infection_rate.head()"
      ],
      "execution_count": 0,
      "outputs": []
    },
    {
      "cell_type": "markdown",
      "metadata": {
        "id": "5kFzGCh8DTlp",
        "colab_type": "text"
      },
      "source": [
        "# Merging the census data with the covid cases"
      ]
    },
    {
      "cell_type": "code",
      "metadata": {
        "id": "0G70Z_je26QN",
        "colab_type": "code",
        "colab": {}
      },
      "source": [
        "census_ir = pd.merge(df_2, daily_infection_rate, on = 'geo_id', how = 'inner')\n"
      ],
      "execution_count": 0,
      "outputs": []
    },
    {
      "cell_type": "markdown",
      "metadata": {
        "id": "zCYD2OKADatD",
        "colab_type": "text"
      },
      "source": [
        "# Importing mobility data (citistart-citiend (citibike) and subway data)"
      ]
    },
    {
      "cell_type": "code",
      "metadata": {
        "id": "ysNaSQ2btt0E",
        "colab_type": "code",
        "colab": {}
      },
      "source": [
        "#importing other two file from citibikestart and end.csv\n",
        "citistart = pd.read_csv(\"/content/drive/My Drive/data/march_citistart.csv\")\n",
        "citiend = pd.read_csv(\"/content/drive/My Drive/data/march_citisend.csv\")\n",
        "subway = pd.read_csv(\"/content/drive/My Drive/data/subway_updated.csv\")"
      ],
      "execution_count": 0,
      "outputs": []
    },
    {
      "cell_type": "markdown",
      "metadata": {
        "id": "iQTV5YqOEcIZ",
        "colab_type": "text"
      },
      "source": [
        "# Pre-Processing (renaming)"
      ]
    },
    {
      "cell_type": "code",
      "metadata": {
        "id": "Cki58P6MtU_j",
        "colab_type": "code",
        "colab": {}
      },
      "source": [
        "#changing the column name from zipcode to geo_id (useful when joing tables :-) )\n",
        "citistart1 = citistart.rename(columns={'zipcode': 'geo_id'})\n",
        "citiend1 = citiend.rename(columns={'zipcode': 'geo_id'})\n",
        "subway = subway.rename(columns={'zipcode': 'geo_id'})\n",
        "#changing the column name from tripcount to tripcount_end \n",
        "citiend1 = citiend1.rename(columns={'tripcount': 'tripcount_end'})"
      ],
      "execution_count": 0,
      "outputs": []
    },
    {
      "cell_type": "markdown",
      "metadata": {
        "id": "rXX91L5vEhvW",
        "colab_type": "text"
      },
      "source": [
        "# Pre-Processing (dropping)"
      ]
    },
    {
      "cell_type": "code",
      "metadata": {
        "id": "1KLTKQ86uEXq",
        "colab_type": "code",
        "colab": {}
      },
      "source": [
        "#drop the first column\n",
        "citistart1.drop(['Unnamed: 0'], axis=1, inplace=True)\n",
        "citiend1.drop(['Unnamed: 0'], axis=1, inplace=True)\n",
        "subway.drop(['Unnamed: 0'], axis=1, inplace=True)"
      ],
      "execution_count": 0,
      "outputs": []
    },
    {
      "cell_type": "markdown",
      "metadata": {
        "id": "iedu9GmMEnOl",
        "colab_type": "text"
      },
      "source": [
        "# Pre-Processing(datatype conversion)"
      ]
    },
    {
      "cell_type": "code",
      "metadata": {
        "id": "J9gPkPd-ugo1",
        "colab_type": "code",
        "colab": {}
      },
      "source": [
        "#changing geo_id datatype (important when joining with the census data)\n",
        "#for citistar1 dataframe\n",
        "citistart1['geo_id'] = citistart1['geo_id'].astype(int)\n",
        "citistart1['geo_id'] = citistart1['geo_id'].astype(str)\n",
        "#for citiend1 dataframe\n",
        "citiend1['geo_id'] = citiend1['geo_id'].astype(int)\n",
        "citiend1['geo_id'] = citiend1['geo_id'].astype(str)\n",
        "#for subway dataframe\n",
        "subway['geo_id'] = subway['geo_id'].astype(int)\n",
        "subway['geo_id'] = subway['geo_id'].astype(str)\n",
        "\n",
        "# citiend1.info()\n",
        "#citistart1.info()"
      ],
      "execution_count": 0,
      "outputs": []
    },
    {
      "cell_type": "markdown",
      "metadata": {
        "id": "Hd9ig3eKEs5D",
        "colab_type": "text"
      },
      "source": [
        "# Merging Datasets"
      ]
    },
    {
      "cell_type": "code",
      "metadata": {
        "id": "617aM9c3vb9J",
        "colab_type": "code",
        "colab": {}
      },
      "source": [
        "df_merge = pd.merge(census_ir, citistart1, on = 'geo_id', how = 'left')"
      ],
      "execution_count": 0,
      "outputs": []
    },
    {
      "cell_type": "code",
      "metadata": {
        "id": "F6-OtjQOvuYY",
        "colab_type": "code",
        "colab": {}
      },
      "source": [
        "df_merge1 = pd.merge(df_merge, citiend1, on = 'geo_id', how = 'left')\n"
      ],
      "execution_count": 0,
      "outputs": []
    },
    {
      "cell_type": "markdown",
      "metadata": {
        "id": "gBS41AlkFNXF",
        "colab_type": "text"
      },
      "source": [
        "# Filling NANs with zeros"
      ]
    },
    {
      "cell_type": "code",
      "metadata": {
        "id": "2xVcIJRw4CWt",
        "colab_type": "code",
        "colab": {}
      },
      "source": [
        "df_merge1= df_merge1.fillna(0)"
      ],
      "execution_count": 0,
      "outputs": []
    },
    {
      "cell_type": "markdown",
      "metadata": {
        "id": "SgtHsLzoFR4C",
        "colab_type": "text"
      },
      "source": [
        "# Merging with subway"
      ]
    },
    {
      "cell_type": "code",
      "metadata": {
        "id": "EbMu85x_4Yqe",
        "colab_type": "code",
        "colab": {}
      },
      "source": [
        "sub_merge = pd.merge(df_merge1, subway, on = 'geo_id', how = 'left')"
      ],
      "execution_count": 0,
      "outputs": []
    },
    {
      "cell_type": "markdown",
      "metadata": {
        "id": "oVvjeSCgFWxs",
        "colab_type": "text"
      },
      "source": [
        "# Filling NANs with zeros"
      ]
    },
    {
      "cell_type": "code",
      "metadata": {
        "id": "Lq-7Wtde4keA",
        "colab_type": "code",
        "colab": {}
      },
      "source": [
        "sub_merge= sub_merge.fillna(0)"
      ],
      "execution_count": 0,
      "outputs": []
    },
    {
      "cell_type": "code",
      "metadata": {
        "id": "9quAzlRW4nlR",
        "colab_type": "code",
        "colab": {}
      },
      "source": [
        "sub_merge_final = sub_merge.drop(sub_merge.index[174])"
      ],
      "execution_count": 0,
      "outputs": []
    },
    {
      "cell_type": "markdown",
      "metadata": {
        "id": "GateEYbSFajm",
        "colab_type": "text"
      },
      "source": [
        "# Saving to a csv file"
      ]
    },
    {
      "cell_type": "code",
      "metadata": {
        "id": "zEH3-LQc4q0s",
        "colab_type": "code",
        "colab": {}
      },
      "source": [
        "sub_merge_final.to_csv(r'/content/drive/My Drive/data/final_feature.csv', index=False) \n"
      ],
      "execution_count": 0,
      "outputs": []
    },
    {
      "cell_type": "code",
      "metadata": {
        "id": "jROgdjMUMHHx",
        "colab_type": "code",
        "colab": {}
      },
      "source": [
        ""
      ],
      "execution_count": 0,
      "outputs": []
    }
  ]
}